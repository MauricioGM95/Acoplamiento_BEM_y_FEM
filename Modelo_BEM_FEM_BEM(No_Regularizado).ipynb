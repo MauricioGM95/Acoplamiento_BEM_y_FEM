{
 "cells": [
  {
   "cell_type": "code",
   "execution_count": 1,
   "metadata": {},
   "outputs": [],
   "source": [
    "#Inportar Programas#\n",
    "import bempp.api\n",
    "import numpy as np \n",
    "import dolfin\n",
    "from readoff import *\n",
    "from readpqr import *\n",
    "import trimesh\n",
    "import time\n",
    "start = time.time()"
   ]
  },
  {
   "cell_type": "code",
   "execution_count": 2,
   "metadata": {},
   "outputs": [],
   "source": [
    "#Datos Principales. \n",
    "em = 4.     #[-] Permitividad electrica interior.\n",
    "ei = 10.    #[-] Permitividad electrica de la capa intermedia.\n",
    "es = 80.    #[-] Permitividad electrica exterior.\n",
    "k = 0.125   #[1/A] Inverso de la longitud de Debey-Huckel del fluido.\n",
    "\n",
    "#Ensablaje de los operadores de frontera: #'fmm' para moleculas con un gran mayor numero de vertices.\n",
    "#'default_nonlocal' para moleculas con un pequeño numero de vertices.\n",
    "Assemble = 'default_nonlocal' "
   ]
  },
  {
   "cell_type": "code",
   "execution_count": 3,
   "metadata": {},
   "outputs": [],
   "source": [
    "#Datos de la posicion en el espacio, carga y radios de los atomos de la molecula.\n",
    "PC,Q,R = readpqr('PQR/Sphere5Q3.pqr')  #Eleccion del \"pqr\" de la molecula"
   ]
  },
  {
   "cell_type": "code",
   "execution_count": 4,
   "metadata": {},
   "outputs": [],
   "source": [
    "#Importar la malla volumetrica del cascaron de la molecula\n",
    "from dolfin import Mesh\n",
    "mesh = Mesh(\"Mallas_V/outputTetMeshSphere56R0.xml\") #Creacion de la malla volumetrica"
   ]
  },
  {
   "cell_type": "code",
   "execution_count": 5,
   "metadata": {},
   "outputs": [],
   "source": [
    "#Generar espacios de funcionales globales del potencial en Fem y su derivada en Bem\n",
    "from bempp.api.external import fenics\n",
    "\n",
    "fenics_space = dolfin.FunctionSpace(mesh, \"CG\", 1) #Potencial electrostatico en la interfaz y dominio del soluto\n",
    "trace_space, trace_matrix = \\\n",
    "    fenics.fenics_to_bempp_trace_data(fenics_space) # Espacio de la traza global para trabajar en BEM y FEM simultaneamente"
   ]
  },
  {
   "cell_type": "code",
   "execution_count": 6,
   "metadata": {},
   "outputs": [
    {
     "name": "stdout",
     "output_type": "stream",
     "text": [
      "Found 2 meshes\n",
      "FEM dofs: 707\n",
      "BEM1 dofs: 576\n",
      "BEM2 dofs: 830\n",
      "Tra1 dofs: 290\n",
      "Tra2 dofs: 417\n",
      "TraL dofs: 707\n"
     ]
    }
   ],
   "source": [
    "#Proceso para separar el trace_space para el caso de la malla inferior y la malla superior de forma individual\n",
    "\n",
    "#Codigo para identificar vertices y caras de la malla superior e inferior\n",
    "faces0 = trace_space.grid.elements\n",
    "vertices0 = trace_space.grid.vertices\n",
    "meshSP = trimesh.Trimesh(vertices = vertices0.transpose(), faces= faces0.transpose())\n",
    "mesh_split = meshSP.split()\n",
    "print(\"Found %i meshes\"%len(mesh_split))\n",
    "V1 = len(mesh_split[0].vertices)\n",
    "F1 = len(mesh_split[0].faces)\n",
    "\n",
    "#Obtencion de la malla superficial inferior\n",
    "faces1 = faces0.transpose()[:F1]\n",
    "vertices1 = vertices0.transpose()[:V1]\n",
    "grid1 = bempp.api.grid.grid.Grid(vertices1.transpose(), faces1.transpose())\n",
    "bempp_space1 = bempp.api.function_space(grid1, \"DP\", 0) #Derivada del potencial electrostatico en la interfaz inferior\n",
    "trace_space1 = bempp.api.function_space(grid1, \"P\", 1) # Espacio de la traza para trabajar en BEM inferior y FEM simultaneamente.\n",
    "\n",
    "#Obtencion de la malla superficial superior\n",
    "faces2 = faces0.transpose()[F1:]\n",
    "vertices2 = vertices0.transpose()[V1:]\n",
    "grid2 = bempp.api.grid.grid.Grid(vertices2.transpose(), (faces2-len(vertices1)).transpose())\n",
    "bempp_space2 = bempp.api.function_space(grid2, \"DP\", 0) #Derivada del potencial electrostatico en la interfaz superior\n",
    "trace_space2 = bempp.api.function_space(grid2, \"P\", 1) # Espacio de la traza para trabajar en BEM superior y FEM simultaneamente.\n",
    "\n",
    "#Visualizacion de elementos\n",
    "print(\"FEM dofs: {0}\".format(mesh.num_vertices()))\n",
    "print(\"BEM1 dofs: {0}\".format(bempp_space1.global_dof_count))\n",
    "print(\"BEM2 dofs: {0}\".format(bempp_space2.global_dof_count))\n",
    "print(\"Tra1 dofs: {0}\".format(trace_space1.global_dof_count))\n",
    "print(\"Tra2 dofs: {0}\".format(trace_space2.global_dof_count))\n",
    "print(\"TraL dofs: {0}\".format(trace_space.global_dof_count))"
   ]
  },
  {
   "cell_type": "code",
   "execution_count": 7,
   "metadata": {},
   "outputs": [],
   "source": [
    "#Proceso para separar el trace_matrix para el caso de la malla inferior y la malla superior de forma individual\n",
    "Nodos = np.zeros(trace_space.global_dof_count)\n",
    "Lista_Vertices = []\n",
    "\n",
    "#Procedimeito para ubicar los vertices del trace inferior en trace global\n",
    "for i in range(len(trace_space1.grid.vertices.T)):\n",
    "    valores = np.linalg.norm(trace_space1.grid.vertices[:, i] - trace_space.grid.vertices.T,axis= 1)\n",
    "    index = np.argmin(valores)\n",
    "    Lista_Vertices.append(index)\n",
    "    \n",
    "Nodos[Lista_Vertices] = 1\n",
    "trace_matrix1 = trace_matrix[Nodos.astype(bool)]\n",
    "trace_matrix2 = trace_matrix[np.logical_not(Nodos)]"
   ]
  },
  {
   "cell_type": "code",
   "execution_count": 8,
   "metadata": {},
   "outputs": [],
   "source": [
    "#Generar los operadores de frontera\n",
    "bempp.api.GLOBAL_PARAMETERS.fmm.expansion_order = 5\n",
    "#Operadores de identidad\n",
    "I1 = bempp.api.operators.boundary.sparse.identity(trace_space1, bempp_space1, bempp_space1) # 1\n",
    "I2 = bempp.api.operators.boundary.sparse.identity(trace_space2, bempp_space2, bempp_space2) # 1\n",
    "mass1 = bempp.api.operators.boundary.sparse.identity(bempp_space1, trace_space1, trace_space1) # 1\n",
    "mass2 = bempp.api.operators.boundary.sparse.identity(bempp_space2, trace_space2, trace_space2) # 1\n",
    "\n",
    "#Dominio del soluto Ωm en BEM\n",
    "K1 = bempp.api.operators.boundary.laplace.double_layer(trace_space1, bempp_space1, bempp_space1, assembler=Assemble) #K\n",
    "V1 = bempp.api.operators.boundary.laplace.single_layer(bempp_space1, bempp_space1, bempp_space1, assembler=Assemble) #V\n",
    "Z1 = bempp.api.ZeroBoundaryOperator(bempp_space2, bempp_space1, bempp_space1) #0\n",
    "\n",
    "#Dominio del solvente Ωs en BEM\n",
    "Z2 = bempp.api.ZeroBoundaryOperator(bempp_space1, bempp_space2, bempp_space2) #0\n",
    "if k==0:\n",
    "    K2 = bempp.api.operators.boundary.laplace.double_layer(trace_space2, bempp_space2, bempp_space2, assembler=Assemble) #K\n",
    "    V2 = bempp.api.operators.boundary.laplace.single_layer(bempp_space2, bempp_space2, bempp_space2, assembler=Assemble) #V  \n",
    "else:\n",
    "    K2 = bempp.api.operators.boundary.modified_helmholtz.double_layer(trace_space2, bempp_space2, bempp_space2, k, assembler=Assemble) #K\n",
    "    V2 = bempp.api.operators.boundary.modified_helmholtz.single_layer(bempp_space2, bempp_space2, bempp_space2, k, assembler=Assemble) #V"
   ]
  },
  {
   "cell_type": "code",
   "execution_count": 9,
   "metadata": {},
   "outputs": [],
   "source": [
    "#Definir el espacio funcional de Dolfin\n",
    "u = dolfin.TrialFunction(fenics_space)\n",
    "v = dolfin.TestFunction(fenics_space)"
   ]
  },
  {
   "cell_type": "code",
   "execution_count": 10,
   "metadata": {
    "scrolled": true
   },
   "outputs": [],
   "source": [
    "#Creacion de funcion del potencial de Coulomb   \n",
    "@bempp.api.complex_callable(jit=False)\n",
    "def U_c(x, n, domain_index, result):\n",
    "    global Q,PC,em,S1\n",
    "    result[:] = (1 / (4.*np.pi*em))  * np.sum( Q / np.linalg.norm( x - PC, axis=1))\n",
    "Uca = bempp.api.GridFunction(bempp_space1, fun=U_c)\n",
    "\n",
    "#Construccion del vector derecho\n",
    "# Rhs en Ωm en BEM\n",
    "rhs_bem1 = (Uca).projections(bempp_space1)\n",
    "# Rhs en Ωi en FEM\n",
    "rhs_fem =  np.zeros(mesh.num_vertices()) \n",
    "# Rhs en Ωs en BEM\n",
    "rhs_bem2 = np.zeros(bempp_space2.global_dof_count) \n",
    "# La combinacion de rhs\n",
    "rhs = np.concatenate([rhs_bem1, rhs_fem, rhs_bem2])"
   ]
  },
  {
   "cell_type": "code",
   "execution_count": 11,
   "metadata": {},
   "outputs": [],
   "source": [
    "#Construccion matriz izquierda 3x3\n",
    "from bempp.api.external.fenics import FenicsOperator\n",
    "from scipy.sparse.linalg import LinearOperator\n",
    "from bempp.api.assembly.blocked_operator import BlockedDiscreteOperator\n",
    "blocks = [[None,None,None],[None,None,None],[None,None,None]]\n",
    "\n",
    "trace_op1 = LinearOperator(trace_matrix1.shape, lambda x:trace_matrix1*x)\n",
    "trace_op2 = LinearOperator(trace_matrix2.shape, lambda x:trace_matrix2*x)\n",
    "A = FenicsOperator(ei*(dolfin.inner(dolfin.nabla_grad(u),\n",
    "                                 dolfin.nabla_grad(v)) ) * dolfin.dx)\n",
    "#Posicion de la matriz 3x3\n",
    "blocks[0][0] = V1.weak_form()                     # -V\n",
    "blocks[0][1] = (0.5*I1-K1).weak_form()*trace_op1  # 0.5+K\n",
    "blocks[0][2] = Z1.weak_form()                     # 0\n",
    " \n",
    "blocks[1][0] = -trace_matrix1.T*em*mass1.weak_form().A   # -Mg1\n",
    "blocks[1][1] =  A.weak_form()                            # A\n",
    "blocks[1][2] = -trace_matrix2.T*es*mass2.weak_form().A   # -Mg2\n",
    " \n",
    "blocks[2][0] = Z2.weak_form()                     # 0\n",
    "blocks[2][1] = (0.5*I2-K2).weak_form()*trace_op2  # 0.5-K\n",
    "blocks[2][2] = V2.weak_form()                     # V\n",
    "\n",
    "blocked = bempp.api.assembly.blocked_operator.BlockedDiscreteOperator(np.array(blocks)) "
   ]
  },
  {
   "cell_type": "code",
   "execution_count": 12,
   "metadata": {},
   "outputs": [
    {
     "name": "stderr",
     "output_type": "stream",
     "text": [
      "/home/mauricioguerrero/Software/miniconda3/envs/bempp_prod/lib/python3.8/site-packages/scipy/sparse/linalg/dsolve/linsolve.py:318: SparseEfficiencyWarning: splu requires CSC matrix format\n",
      "  warn('splu requires CSC matrix format', SparseEfficiencyWarning)\n"
     ]
    }
   ],
   "source": [
    "#Creacion del precondicionador Matriz de Masa para BEM/FEM/BEM\n",
    "from bempp.api.assembly.discrete_boundary_operator import InverseSparseDiscreteBoundaryOperator\n",
    "from scipy.sparse.linalg import LinearOperator\n",
    "from scipy.sparse import diags\n",
    "\n",
    "P2 = diags(1./(blocked[1,1].A).diagonal())\n",
    "P1 = InverseSparseDiscreteBoundaryOperator(\n",
    "    bempp.api.operators.boundary.sparse.identity(\n",
    "        bempp_space1, bempp_space1, bempp_space1).weak_form())\n",
    "P3 = InverseSparseDiscreteBoundaryOperator(\n",
    "    bempp.api.operators.boundary.sparse.identity(\n",
    "        bempp_space2, bempp_space2, bempp_space2).weak_form())\n",
    "\n",
    "def apply_prec(x):\n",
    "    \"\"\"Apply the block diagonal preconditioner\"\"\"\n",
    "    m1 = P1.shape[0]\n",
    "    m2 = P2.shape[0]\n",
    "    m3 = P3.shape[0]\n",
    "    n1 = P1.shape[1]\n",
    "    n2 = P2.shape[1]\n",
    "    n3 = P3.shape[1]\n",
    " \n",
    "    res1 = P1.dot(x[:n1])\n",
    "    res2 = P2.dot(x[n1: n1+n2])\n",
    "    res3 = P3.dot(x[n1+n2:])\n",
    "    return np.concatenate([res1, res2, res3])\n",
    "\n",
    "p_shape = (P1.shape[0] + P2.shape[0] + P3.shape[0], P1.shape[1] + P2.shape[1] + P3.shape[1])\n",
    "P = LinearOperator(p_shape, apply_prec, dtype=np.dtype('complex128'))"
   ]
  },
  {
   "cell_type": "code",
   "execution_count": 13,
   "metadata": {
    "scrolled": true
   },
   "outputs": [
    {
     "name": "stdout",
     "output_type": "stream",
     "text": [
      "Numero de iteraciones de GMRES: 103\n",
      "Tiempo total en GMRES:  0.26 [s]\n"
     ]
    }
   ],
   "source": [
    "#Se resuelve la solucion de la Ecuacion matricial Ax=B\n",
    "#Contador de iteraciones\n",
    "it_count = 0\n",
    "def count_iterations(x):\n",
    "    global it_count\n",
    "    it_count += 1\n",
    "    if (it_count / 20000) == (it_count // 20000):\n",
    "        print(it_count,x)\n",
    "\n",
    "# Solucion por GMRES\n",
    "from scipy.sparse.linalg import gmres\n",
    "start1 = time.time()\n",
    "soln, info = gmres(blocked, rhs, M=P, callback=count_iterations,tol=1e-6)  \n",
    "end1 = time.time() \n",
    "\n",
    "# Tiempo de resolver la ecuacion\n",
    "curr_time1 = (end1 - start1) \n",
    "print(\"Numero de iteraciones de GMRES: {0}\".format(it_count))\n",
    "print(\"Tiempo total en GMRES: {:5.2f} [s]\".format(curr_time1)) \n",
    "\n",
    "soln_bem1 = soln[:bempp_space1.global_dof_count] \n",
    "soln_fem  = soln[bempp_space1.global_dof_count : bempp_space1.global_dof_count + mesh.num_vertices()]\n",
    "soln_bem2 = soln[bempp_space1.global_dof_count + mesh.num_vertices():]"
   ]
  },
  {
   "cell_type": "code",
   "execution_count": 14,
   "metadata": {},
   "outputs": [],
   "source": [
    "#Calcula todo el dominio global del potencial a partir de la solucion de los borde de ambas interfaces.\n",
    "#(Incluido la funcion si se quiere calcular el valor de los tres dominios)\n",
    "\n",
    "# Calcula la solucion del potencial real en el dominio de FEM en la region intermedia \n",
    "u = dolfin.Function(fenics_space)\n",
    "u.vector()[:] = np.ascontiguousarray(np.real(soln_fem)) \n",
    "\n",
    "# Solucion para datos de Dirichlet en la interfaz inferior\n",
    "dirichlet_data1 = trace_matrix1 * soln_fem\n",
    "dirichlet_fun1 = bempp.api.GridFunction(trace_space1, coefficients=dirichlet_data1)\n",
    "# Solucion para datos de Neumann en la interfaz inferior\n",
    "neumann_fun1 = bempp.api.GridFunction(bempp_space1, coefficients=soln_bem1)\n",
    "\n",
    "# Solucion para datos de Dirichlet en la interfaz superior\n",
    "dirichlet_data2 = trace_matrix2 * soln_fem\n",
    "dirichlet_fun2 = bempp.api.GridFunction(trace_space2, coefficients=dirichlet_data2)\n",
    "# Solucion para datos de Neumann en la interfaz superior\n",
    "neumann_fun2 = bempp.api.GridFunction(bempp_space2, coefficients=soln_bem2)"
   ]
  },
  {
   "cell_type": "code",
   "execution_count": 15,
   "metadata": {
    "scrolled": true
   },
   "outputs": [
    {
     "name": "stdout",
     "output_type": "stream",
     "text": [
      "-22.818177900080315\n",
      "-22.819659440147923\n",
      "-22.819185824713674\n",
      "Energia de Solvatacion: -68.457023 [kCal/mol]\n",
      "Tiempo total: 24.97 [s]\n"
     ]
    }
   ],
   "source": [
    "#Calculo del potencial en la posicion de los atomos de la molecula\n",
    "VF1 = bempp.api.operators.potential.laplace.single_layer(bempp_space1, np.transpose(PC)) \n",
    "KF1 = bempp.api.operators.potential.laplace.double_layer(trace_space1, np.transpose(PC))\n",
    "uF = -VF1*neumann_fun1 + KF1*dirichlet_fun1 \n",
    "\n",
    "#Resultado de la energia de solvatacion por atomo\n",
    "for i in range(len(PC)):\n",
    "    Sum1 = (uF[0][i]).real*Q[i]\n",
    "    Ei = 0.5*4.*np.pi*332.064*(Sum1)\n",
    "    print(Ei)\n",
    "    \n",
    "#Resultado de la energia de solvatacion total  \n",
    "E_Solv = 0.5*4.*np.pi*332.064*np.sum(Q*uF).real \n",
    "print('Energia de Solvatacion: {:7.6f} [kCal/mol]'.format(E_Solv) )\n",
    "\n",
    "end = time.time()\n",
    "curr_time = (end - start)   \n",
    "print(\"Tiempo total: {:5.2f} [s]\".format(curr_time))"
   ]
  },
  {
   "cell_type": "code",
   "execution_count": null,
   "metadata": {},
   "outputs": [],
   "source": []
  }
 ],
 "metadata": {
  "kernelspec": {
   "display_name": "Python 3",
   "language": "python",
   "name": "python3"
  },
  "language_info": {
   "codemirror_mode": {
    "name": "ipython",
    "version": 3
   },
   "file_extension": ".py",
   "mimetype": "text/x-python",
   "name": "python",
   "nbconvert_exporter": "python",
   "pygments_lexer": "ipython3",
   "version": "3.8.6"
  }
 },
 "nbformat": 4,
 "nbformat_minor": 4
}
