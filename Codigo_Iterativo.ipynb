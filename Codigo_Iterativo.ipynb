{
 "cells": [
  {
   "cell_type": "code",
   "execution_count": 1,
   "metadata": {},
   "outputs": [],
   "source": [
    "import bempp.api\n",
    "from bempp.api.external import fenics\n",
    "import numpy as np \n",
    "from Codigos_BEM_y_FEM_Generalizadas import *\n",
    "import time"
   ]
  },
  {
   "cell_type": "code",
   "execution_count": 2,
   "metadata": {},
   "outputs": [],
   "source": [
    "#Datos principales\n",
    "k = 0.125\n",
    "es = 80 \n",
    "em = 4\n",
    "ei1=80\n",
    "ei2=10\n",
    "Tol = 1e-6\n",
    "\n",
    "#file0 = 'Newarg' #'1112_tetrachloroethane' #'propanoic_acid'  # #Modelo para otra moleculas\n",
    "LT = ['0','1','2','3','4','5'] \n",
    "\n",
    "#Caso para la esfera de radio 2.\n",
    "#LT = [0, 0.1, 0.2, 0.3, 0.4, 0.5, 0.6, 0.7, 0.8, 0.9, 1.0, 1.1, 1.2, 1.3, 1.4, 1.5, 1.6, 1.625, 1.65, 1.675, 1.7, 1.725, 1.75, 1.775, 1.8, 1.825, 1.85, 1.875, 1.9, 1.925, 1.95, 1.975, 1.99]\n",
    "#QI = np.array([1.0,1.0,1.0])\n",
    "#MS1 = 'Mallas_S/Sphere2.off'\n",
    "#MV = 'Mallas_V/outputTetMeshSphere2.xml'\n",
    "#PCI = np.array([[LT[i],0.0,0.0],[0.0,0.5,0.0],[0.0,-0.5,0.0]])   \n",
    "#PQR =[PCI,QI]"
   ]
  },
  {
   "cell_type": "code",
   "execution_count": 3,
   "metadata": {
    "scrolled": true
   },
   "outputs": [
    {
     "name": "stdout",
     "output_type": "stream",
     "text": [
      "%%%%%%%%%%%%%\n",
      "0 0\n",
      "Caso BEM/BEM(NoRegularizado)\n",
      "Found 1 meshes\n",
      "DS dofs: 290\n",
      "NS dofs: 576\n"
     ]
    },
    {
     "name": "stderr",
     "output_type": "stream",
     "text": [
      "/home/mauricioguerrero/Software/miniconda3/envs/bempp_prod/lib/python3.8/site-packages/scipy/sparse/linalg/dsolve/linsolve.py:318: SparseEfficiencyWarning: splu requires CSC matrix format\n",
      "  warn('splu requires CSC matrix format', SparseEfficiencyWarning)\n",
      "/home/mauricioguerrero/Software/miniconda3/envs/bempp_prod/lib/python3.8/site-packages/scipy/sparse/linalg/dsolve/linsolve.py:318: SparseEfficiencyWarning: splu requires CSC matrix format\n",
      "  warn('splu requires CSC matrix format', SparseEfficiencyWarning)\n"
     ]
    },
    {
     "name": "stdout",
     "output_type": "stream",
     "text": [
      "Numero de iteraciones de GMRES: 136\n",
      "Tiempo total en GMRES:  2.13 [s]\n",
      "Energia de Solvatacion en BEM/BEM: -72.905063 [kCal/mol]\n",
      "Tiempo total: 24.78 [s]\n",
      "Caso BEM/BEM(Regularizado)\n",
      "Found 1 meshes\n",
      "DS dofs: 290\n",
      "NS dofs: 576\n"
     ]
    },
    {
     "name": "stderr",
     "output_type": "stream",
     "text": [
      "/home/mauricioguerrero/Software/miniconda3/envs/bempp_prod/lib/python3.8/site-packages/scipy/sparse/linalg/dsolve/linsolve.py:318: SparseEfficiencyWarning: splu requires CSC matrix format\n",
      "  warn('splu requires CSC matrix format', SparseEfficiencyWarning)\n"
     ]
    },
    {
     "name": "stdout",
     "output_type": "stream",
     "text": [
      "Numero de iteraciones de GMRES: 116\n",
      "Tiempo total en GMRES:  0.51 [s]\n",
      "Energia de Solvatacion en BEM/BEM: -72.900520 [kCal/mol]\n",
      "Tiempo total:  4.08 [s]\n",
      "Caso BEM/BEM(3Terminos)\n",
      "Found 1 meshes\n",
      "DS dofs: 290\n",
      "NS dofs: 576\n"
     ]
    },
    {
     "name": "stderr",
     "output_type": "stream",
     "text": [
      "/home/mauricioguerrero/Software/miniconda3/envs/bempp_prod/lib/python3.8/site-packages/scipy/sparse/linalg/dsolve/linsolve.py:318: SparseEfficiencyWarning: splu requires CSC matrix format\n",
      "  warn('splu requires CSC matrix format', SparseEfficiencyWarning)\n"
     ]
    },
    {
     "name": "stdout",
     "output_type": "stream",
     "text": [
      "Numero de iteraciones de GMRES de dU_h: 24\n",
      "Numero de iteraciones de GMRES: 268\n",
      "Tiempo total en GMRES:  0.91 [s]\n",
      "Energia de Solvatacion en BEM/BEM: -72.900507 [kCal/mol]\n",
      "Tiempo total:  4.59 [s]\n",
      "Caso BEM/BEM(NoRegularizado)\n",
      "FEM dofs: 367\n",
      "BEM dofs: 576\n",
      "TRA dofs: 290\n"
     ]
    },
    {
     "name": "stderr",
     "output_type": "stream",
     "text": [
      "/home/mauricioguerrero/Software/miniconda3/envs/bempp_prod/lib/python3.8/site-packages/scipy/sparse/linalg/dsolve/linsolve.py:318: SparseEfficiencyWarning: splu requires CSC matrix format\n",
      "  warn('splu requires CSC matrix format', SparseEfficiencyWarning)\n"
     ]
    },
    {
     "name": "stdout",
     "output_type": "stream",
     "text": [
      "Numero de iteraciones de GMRES: 240\n",
      "Tiempo total en GMRES:  0.19 [s]\n",
      "Energia de Solvatacion en FEM/BEM: -72.912409 [kCal/mol]\n",
      "Tiempo total:  6.31 [s]\n",
      "Caso BEM/BEM(Regularizado)\n",
      "FEM dofs: 367\n",
      "BEM dofs: 576\n",
      "TRA dofs: 290\n"
     ]
    },
    {
     "name": "stderr",
     "output_type": "stream",
     "text": [
      "/home/mauricioguerrero/Software/miniconda3/envs/bempp_prod/lib/python3.8/site-packages/scipy/sparse/linalg/dsolve/linsolve.py:318: SparseEfficiencyWarning: splu requires CSC matrix format\n",
      "  warn('splu requires CSC matrix format', SparseEfficiencyWarning)\n"
     ]
    },
    {
     "name": "stdout",
     "output_type": "stream",
     "text": [
      "Numero de iteraciones de GMRES: 380\n",
      "Tiempo total en GMRES:  0.50 [s]\n",
      "Energia de Solvatacion en FEM/BEM: -72.912498 [kCal/mol]\n",
      "Tiempo total:  4.06 [s]\n",
      "Caso BEM/BEM(3Terminos)\n",
      "FEM dofs: 367\n",
      "BEM dofs: 576\n",
      "TRA dofs: 290\n"
     ]
    },
    {
     "name": "stderr",
     "output_type": "stream",
     "text": [
      "/home/mauricioguerrero/Software/miniconda3/envs/bempp_prod/lib/python3.8/site-packages/scipy/sparse/linalg/dsolve/linsolve.py:318: SparseEfficiencyWarning: splu requires CSC matrix format\n",
      "  warn('splu requires CSC matrix format', SparseEfficiencyWarning)\n"
     ]
    },
    {
     "name": "stdout",
     "output_type": "stream",
     "text": [
      "Numero de iteraciones de GMRES: 759\n",
      "Tiempo total en GMRES:  0.81 [s]\n",
      "Energia de Solvatacion en FEM/BEM: -72.250878 [kCal/mol]\n",
      "Tiempo total:  4.40 [s]\n",
      "Caso BEM/BEM/BEM\n",
      "DS1 dofs: 290\n",
      "NS1 dofs: 576\n",
      "DS2 dofs: 417\n",
      "NS2 dofs: 830\n"
     ]
    },
    {
     "name": "stderr",
     "output_type": "stream",
     "text": [
      "/home/mauricioguerrero/Software/miniconda3/envs/bempp_prod/lib/python3.8/site-packages/scipy/sparse/linalg/dsolve/linsolve.py:318: SparseEfficiencyWarning: splu requires CSC matrix format\n",
      "  warn('splu requires CSC matrix format', SparseEfficiencyWarning)\n"
     ]
    },
    {
     "name": "stdout",
     "output_type": "stream",
     "text": [
      "Numero de iteraciones de GMRES: 237\n",
      "Tiempo total en GMRES:  2.71 [s]\n",
      "Energia de Solvatacion en BEM/BEM/BEM: -72.801520 [kCal/mol]\n",
      "Tiempo total:  4.70 [s]\n",
      "Caso BEM/BEM/BEM\n",
      "DS1 dofs: 290\n",
      "NS1 dofs: 576\n",
      "DS2 dofs: 417\n",
      "NS2 dofs: 830\n"
     ]
    },
    {
     "name": "stderr",
     "output_type": "stream",
     "text": [
      "/home/mauricioguerrero/Software/miniconda3/envs/bempp_prod/lib/python3.8/site-packages/scipy/sparse/linalg/dsolve/linsolve.py:318: SparseEfficiencyWarning: splu requires CSC matrix format\n",
      "  warn('splu requires CSC matrix format', SparseEfficiencyWarning)\n"
     ]
    },
    {
     "name": "stdout",
     "output_type": "stream",
     "text": [
      "Numero de iteraciones de GMRES: 136\n",
      "Tiempo total en GMRES:  2.12 [s]\n",
      "Energia de Solvatacion en BEM/BEM/BEM: -68.369802 [kCal/mol]\n",
      "Tiempo total:  3.94 [s]\n",
      "Caso BEM/FEM/BEM(Constante)\n",
      "Found 2 meshes\n",
      "FEM dofs: 707\n",
      "BEM1 dofs: 576\n",
      "BEM2 dofs: 830\n",
      "Tra1 dofs: 290\n",
      "Tra2 dofs: 417\n",
      "TraL dofs: 707\n"
     ]
    },
    {
     "name": "stderr",
     "output_type": "stream",
     "text": [
      "/home/mauricioguerrero/Software/miniconda3/envs/bempp_prod/lib/python3.8/site-packages/scipy/sparse/linalg/dsolve/linsolve.py:318: SparseEfficiencyWarning: splu requires CSC matrix format\n",
      "  warn('splu requires CSC matrix format', SparseEfficiencyWarning)\n"
     ]
    },
    {
     "name": "stdout",
     "output_type": "stream",
     "text": [
      "Numero de iteraciones de GMRES: 64\n",
      "Tiempo total en GMRES:  0.17 [s]\n",
      "Energia de Solvatacion en BEM/FEM/BEM: -72.812577 [kCal/mol]\n",
      "Tiempo total:  2.53 [s]\n",
      "Caso BEM/FEM/BEM(Constante)\n",
      "Found 2 meshes\n",
      "FEM dofs: 707\n",
      "BEM1 dofs: 576\n",
      "BEM2 dofs: 830\n",
      "Tra1 dofs: 290\n",
      "Tra2 dofs: 417\n",
      "TraL dofs: 707\n"
     ]
    },
    {
     "name": "stderr",
     "output_type": "stream",
     "text": [
      "/home/mauricioguerrero/Software/miniconda3/envs/bempp_prod/lib/python3.8/site-packages/scipy/sparse/linalg/dsolve/linsolve.py:318: SparseEfficiencyWarning: splu requires CSC matrix format\n",
      "  warn('splu requires CSC matrix format', SparseEfficiencyWarning)\n"
     ]
    },
    {
     "name": "stdout",
     "output_type": "stream",
     "text": [
      "Numero de iteraciones de GMRES: 103\n",
      "Tiempo total en GMRES:  0.30 [s]\n",
      "Energia de Solvatacion en BEM/FEM/BEM: -68.457023 [kCal/mol]\n",
      "Tiempo total:  2.59 [s]\n",
      "Caso BEM/FEM/BEM(Variable_Lineal)\n",
      "Found 2 meshes\n",
      "FEM dofs: 707\n",
      "BEM1 dofs: 576\n",
      "BEM2 dofs: 830\n",
      "Tra1 dofs: 290\n",
      "Tra2 dofs: 417\n",
      "TraL dofs: 707\n"
     ]
    },
    {
     "name": "stderr",
     "output_type": "stream",
     "text": [
      "/home/mauricioguerrero/Software/miniconda3/envs/bempp_prod/lib/python3.8/site-packages/scipy/sparse/linalg/dsolve/linsolve.py:318: SparseEfficiencyWarning: splu requires CSC matrix format\n",
      "  warn('splu requires CSC matrix format', SparseEfficiencyWarning)\n"
     ]
    },
    {
     "name": "stdout",
     "output_type": "stream",
     "text": [
      "Numero de iteraciones de GMRES: 58\n",
      "Tiempo total en GMRES:  0.17 [s]\n",
      "Energia de Solvatacion en BEM/FEM/BEM: -72.279904 [kCal/mol]\n",
      "Tiempo total:  2.68 [s]\n",
      "Caso BEM/FEM/BEM(Variable_por_Radio)\n",
      "Found 2 meshes\n",
      "FEM dofs: 707\n",
      "BEM1 dofs: 576\n",
      "BEM2 dofs: 830\n",
      "Tra1 dofs: 290\n",
      "Tra2 dofs: 417\n",
      "TraL dofs: 707\n"
     ]
    },
    {
     "name": "stderr",
     "output_type": "stream",
     "text": [
      "/home/mauricioguerrero/Software/miniconda3/envs/bempp_prod/lib/python3.8/site-packages/scipy/sparse/linalg/dsolve/linsolve.py:318: SparseEfficiencyWarning: splu requires CSC matrix format\n",
      "  warn('splu requires CSC matrix format', SparseEfficiencyWarning)\n"
     ]
    },
    {
     "name": "stdout",
     "output_type": "stream",
     "text": [
      "Numero de iteraciones de GMRES: 90\n",
      "Tiempo total en GMRES:  0.24 [s]\n",
      "Energia de Solvatacion en BEM/FEM/BEM: -68.292218 [kCal/mol]\n",
      "Tiempo total:  2.60 [s]\n",
      "Tiempo total por grupo: 67.27 [s]\n",
      "%%%%%%%%%%%%%\n",
      "1 1\n",
      "Caso BEM/BEM(NoRegularizado)\n",
      "Found 1 meshes\n",
      "DS dofs: 566\n",
      "NS dofs: 1128\n"
     ]
    },
    {
     "name": "stderr",
     "output_type": "stream",
     "text": [
      "/home/mauricioguerrero/Software/miniconda3/envs/bempp_prod/lib/python3.8/site-packages/scipy/sparse/linalg/dsolve/linsolve.py:318: SparseEfficiencyWarning: splu requires CSC matrix format\n",
      "  warn('splu requires CSC matrix format', SparseEfficiencyWarning)\n"
     ]
    },
    {
     "name": "stdout",
     "output_type": "stream",
     "text": [
      "Numero de iteraciones de GMRES: 114\n",
      "Tiempo total en GMRES:  0.94 [s]\n",
      "Energia de Solvatacion en BEM/BEM: -72.666465 [kCal/mol]\n",
      "Tiempo total:  4.61 [s]\n",
      "Caso BEM/BEM(Regularizado)\n",
      "Found 1 meshes\n",
      "DS dofs: 566\n",
      "NS dofs: 1128\n"
     ]
    },
    {
     "name": "stderr",
     "output_type": "stream",
     "text": [
      "/home/mauricioguerrero/Software/miniconda3/envs/bempp_prod/lib/python3.8/site-packages/scipy/sparse/linalg/dsolve/linsolve.py:318: SparseEfficiencyWarning: splu requires CSC matrix format\n",
      "  warn('splu requires CSC matrix format', SparseEfficiencyWarning)\n"
     ]
    },
    {
     "name": "stdout",
     "output_type": "stream",
     "text": [
      "Numero de iteraciones de GMRES: 94\n",
      "Tiempo total en GMRES:  0.57 [s]\n",
      "Energia de Solvatacion en BEM/BEM: -72.664867 [kCal/mol]\n",
      "Tiempo total:  4.43 [s]\n",
      "Caso BEM/BEM(3Terminos)\n",
      "Found 1 meshes\n",
      "DS dofs: 566\n",
      "NS dofs: 1128\n"
     ]
    },
    {
     "name": "stderr",
     "output_type": "stream",
     "text": [
      "/home/mauricioguerrero/Software/miniconda3/envs/bempp_prod/lib/python3.8/site-packages/scipy/sparse/linalg/dsolve/linsolve.py:318: SparseEfficiencyWarning: splu requires CSC matrix format\n",
      "  warn('splu requires CSC matrix format', SparseEfficiencyWarning)\n"
     ]
    },
    {
     "name": "stdout",
     "output_type": "stream",
     "text": [
      "Numero de iteraciones de GMRES de dU_h: 27\n",
      "Numero de iteraciones de GMRES: 290\n",
      "Tiempo total en GMRES:  1.27 [s]\n",
      "Energia de Solvatacion en BEM/BEM: -72.664859 [kCal/mol]\n",
      "Tiempo total:  5.33 [s]\n",
      "Caso BEM/BEM(NoRegularizado)\n",
      "FEM dofs: 742\n",
      "BEM dofs: 1128\n",
      "TRA dofs: 566\n"
     ]
    },
    {
     "name": "stderr",
     "output_type": "stream",
     "text": [
      "/home/mauricioguerrero/Software/miniconda3/envs/bempp_prod/lib/python3.8/site-packages/scipy/sparse/linalg/dsolve/linsolve.py:318: SparseEfficiencyWarning: splu requires CSC matrix format\n",
      "  warn('splu requires CSC matrix format', SparseEfficiencyWarning)\n"
     ]
    },
    {
     "name": "stdout",
     "output_type": "stream",
     "text": [
      "Numero de iteraciones de GMRES: 260\n",
      "Tiempo total en GMRES:  0.24 [s]\n",
      "Energia de Solvatacion en FEM/BEM: -72.674997 [kCal/mol]\n",
      "Tiempo total:  4.36 [s]\n",
      "Caso BEM/BEM(Regularizado)\n",
      "FEM dofs: 742\n",
      "BEM dofs: 1128\n",
      "TRA dofs: 566\n"
     ]
    },
    {
     "name": "stderr",
     "output_type": "stream",
     "text": [
      "/home/mauricioguerrero/Software/miniconda3/envs/bempp_prod/lib/python3.8/site-packages/scipy/sparse/linalg/dsolve/linsolve.py:318: SparseEfficiencyWarning: splu requires CSC matrix format\n",
      "  warn('splu requires CSC matrix format', SparseEfficiencyWarning)\n"
     ]
    },
    {
     "name": "stdout",
     "output_type": "stream",
     "text": [
      "Numero de iteraciones de GMRES: 440\n",
      "Tiempo total en GMRES:  0.69 [s]\n",
      "Energia de Solvatacion en FEM/BEM: -72.675013 [kCal/mol]\n",
      "Tiempo total:  4.64 [s]\n",
      "Caso BEM/BEM(3Terminos)\n",
      "FEM dofs: 742\n",
      "BEM dofs: 1128\n",
      "TRA dofs: 566\n"
     ]
    },
    {
     "name": "stderr",
     "output_type": "stream",
     "text": [
      "/home/mauricioguerrero/Software/miniconda3/envs/bempp_prod/lib/python3.8/site-packages/scipy/sparse/linalg/dsolve/linsolve.py:318: SparseEfficiencyWarning: splu requires CSC matrix format\n",
      "  warn('splu requires CSC matrix format', SparseEfficiencyWarning)\n"
     ]
    },
    {
     "name": "stdout",
     "output_type": "stream",
     "text": [
      "Numero de iteraciones de GMRES: 857\n",
      "Tiempo total en GMRES:  1.28 [s]\n",
      "Energia de Solvatacion en FEM/BEM: -72.274925 [kCal/mol]\n",
      "Tiempo total:  5.30 [s]\n",
      "Caso BEM/BEM/BEM\n",
      "DS1 dofs: 566\n",
      "NS1 dofs: 1128\n",
      "DS2 dofs: 800\n",
      "NS2 dofs: 1596\n"
     ]
    },
    {
     "name": "stderr",
     "output_type": "stream",
     "text": [
      "/home/mauricioguerrero/Software/miniconda3/envs/bempp_prod/lib/python3.8/site-packages/scipy/sparse/linalg/dsolve/linsolve.py:318: SparseEfficiencyWarning: splu requires CSC matrix format\n",
      "  warn('splu requires CSC matrix format', SparseEfficiencyWarning)\n"
     ]
    },
    {
     "name": "stdout",
     "output_type": "stream",
     "text": [
      "Numero de iteraciones de GMRES: 188\n",
      "Tiempo total en GMRES:  3.88 [s]\n",
      "Energia de Solvatacion en BEM/BEM/BEM: -72.563390 [kCal/mol]\n",
      "Tiempo total:  6.24 [s]\n",
      "Caso BEM/BEM/BEM\n",
      "DS1 dofs: 566\n",
      "NS1 dofs: 1128\n",
      "DS2 dofs: 800\n",
      "NS2 dofs: 1596\n"
     ]
    },
    {
     "name": "stderr",
     "output_type": "stream",
     "text": [
      "/home/mauricioguerrero/Software/miniconda3/envs/bempp_prod/lib/python3.8/site-packages/scipy/sparse/linalg/dsolve/linsolve.py:318: SparseEfficiencyWarning: splu requires CSC matrix format\n",
      "  warn('splu requires CSC matrix format', SparseEfficiencyWarning)\n"
     ]
    },
    {
     "name": "stdout",
     "output_type": "stream",
     "text": [
      "Numero de iteraciones de GMRES: 128\n",
      "Tiempo total en GMRES:  3.19 [s]\n",
      "Energia de Solvatacion en BEM/BEM/BEM: -68.168259 [kCal/mol]\n",
      "Tiempo total:  5.46 [s]\n",
      "Caso BEM/FEM/BEM(Constante)\n",
      "Found 2 meshes\n",
      "FEM dofs: 1366\n",
      "BEM1 dofs: 1128\n",
      "BEM2 dofs: 1596\n",
      "Tra1 dofs: 566\n",
      "Tra2 dofs: 800\n",
      "TraL dofs: 1366\n"
     ]
    },
    {
     "name": "stderr",
     "output_type": "stream",
     "text": [
      "/home/mauricioguerrero/Software/miniconda3/envs/bempp_prod/lib/python3.8/site-packages/scipy/sparse/linalg/dsolve/linsolve.py:318: SparseEfficiencyWarning: splu requires CSC matrix format\n",
      "  warn('splu requires CSC matrix format', SparseEfficiencyWarning)\n"
     ]
    },
    {
     "name": "stdout",
     "output_type": "stream",
     "text": [
      "Numero de iteraciones de GMRES: 80\n",
      "Tiempo total en GMRES:  0.31 [s]\n",
      "Energia de Solvatacion en BEM/FEM/BEM: -72.572359 [kCal/mol]\n",
      "Tiempo total:  3.11 [s]\n",
      "Caso BEM/FEM/BEM(Constante)\n",
      "Found 2 meshes\n",
      "FEM dofs: 1366\n",
      "BEM1 dofs: 1128\n",
      "BEM2 dofs: 1596\n",
      "Tra1 dofs: 566\n",
      "Tra2 dofs: 800\n",
      "TraL dofs: 1366\n"
     ]
    },
    {
     "name": "stderr",
     "output_type": "stream",
     "text": [
      "/home/mauricioguerrero/Software/miniconda3/envs/bempp_prod/lib/python3.8/site-packages/scipy/sparse/linalg/dsolve/linsolve.py:318: SparseEfficiencyWarning: splu requires CSC matrix format\n",
      "  warn('splu requires CSC matrix format', SparseEfficiencyWarning)\n"
     ]
    },
    {
     "name": "stdout",
     "output_type": "stream",
     "text": [
      "Numero de iteraciones de GMRES: 95\n",
      "Tiempo total en GMRES:  0.38 [s]\n",
      "Energia de Solvatacion en BEM/FEM/BEM: -68.239705 [kCal/mol]\n",
      "Tiempo total:  3.28 [s]\n",
      "Caso BEM/FEM/BEM(Variable_Lineal)\n",
      "Found 2 meshes\n",
      "FEM dofs: 1366\n",
      "BEM1 dofs: 1128\n",
      "BEM2 dofs: 1596\n",
      "Tra1 dofs: 566\n",
      "Tra2 dofs: 800\n",
      "TraL dofs: 1366\n"
     ]
    },
    {
     "name": "stderr",
     "output_type": "stream",
     "text": [
      "/home/mauricioguerrero/Software/miniconda3/envs/bempp_prod/lib/python3.8/site-packages/scipy/sparse/linalg/dsolve/linsolve.py:318: SparseEfficiencyWarning: splu requires CSC matrix format\n",
      "  warn('splu requires CSC matrix format', SparseEfficiencyWarning)\n"
     ]
    },
    {
     "name": "stdout",
     "output_type": "stream",
     "text": [
      "Numero de iteraciones de GMRES: 68\n",
      "Tiempo total en GMRES:  0.26 [s]\n",
      "Energia de Solvatacion en BEM/FEM/BEM: -72.044968 [kCal/mol]\n",
      "Tiempo total:  3.43 [s]\n",
      "Caso BEM/FEM/BEM(Variable_por_Radio)\n",
      "Found 2 meshes\n",
      "FEM dofs: 1366\n",
      "BEM1 dofs: 1128\n",
      "BEM2 dofs: 1596\n",
      "Tra1 dofs: 566\n",
      "Tra2 dofs: 800\n",
      "TraL dofs: 1366\n"
     ]
    },
    {
     "name": "stderr",
     "output_type": "stream",
     "text": [
      "/home/mauricioguerrero/Software/miniconda3/envs/bempp_prod/lib/python3.8/site-packages/scipy/sparse/linalg/dsolve/linsolve.py:318: SparseEfficiencyWarning: splu requires CSC matrix format\n",
      "  warn('splu requires CSC matrix format', SparseEfficiencyWarning)\n"
     ]
    },
    {
     "name": "stdout",
     "output_type": "stream",
     "text": [
      "Numero de iteraciones de GMRES: 96\n",
      "Tiempo total en GMRES:  0.34 [s]\n",
      "Energia de Solvatacion en BEM/FEM/BEM: -68.075765 [kCal/mol]\n",
      "Tiempo total:  3.16 [s]\n",
      "Tiempo total por grupo: 53.38 [s]\n",
      "%%%%%%%%%%%%%\n",
      "2 2\n",
      "Caso BEM/BEM(NoRegularizado)\n",
      "Found 1 meshes\n",
      "DS dofs: 1149\n",
      "NS dofs: 2294\n"
     ]
    },
    {
     "name": "stderr",
     "output_type": "stream",
     "text": [
      "/home/mauricioguerrero/Software/miniconda3/envs/bempp_prod/lib/python3.8/site-packages/scipy/sparse/linalg/dsolve/linsolve.py:318: SparseEfficiencyWarning: splu requires CSC matrix format\n",
      "  warn('splu requires CSC matrix format', SparseEfficiencyWarning)\n"
     ]
    },
    {
     "name": "stdout",
     "output_type": "stream",
     "text": [
      "Numero de iteraciones de GMRES: 56\n",
      "Tiempo total en GMRES:  2.08 [s]\n",
      "Energia de Solvatacion en BEM/BEM: -72.538295 [kCal/mol]\n",
      "Tiempo total:  6.05 [s]\n",
      "Caso BEM/BEM(Regularizado)\n",
      "Found 1 meshes\n",
      "DS dofs: 1149\n",
      "NS dofs: 2294\n"
     ]
    },
    {
     "name": "stderr",
     "output_type": "stream",
     "text": [
      "/home/mauricioguerrero/Software/miniconda3/envs/bempp_prod/lib/python3.8/site-packages/scipy/sparse/linalg/dsolve/linsolve.py:318: SparseEfficiencyWarning: splu requires CSC matrix format\n",
      "  warn('splu requires CSC matrix format', SparseEfficiencyWarning)\n"
     ]
    },
    {
     "name": "stdout",
     "output_type": "stream",
     "text": [
      "Numero de iteraciones de GMRES: 42\n",
      "Tiempo total en GMRES:  0.88 [s]\n",
      "Energia de Solvatacion en BEM/BEM: -72.537773 [kCal/mol]\n",
      "Tiempo total:  6.09 [s]\n",
      "Caso BEM/BEM(3Terminos)\n",
      "Found 1 meshes\n",
      "DS dofs: 1149\n",
      "NS dofs: 2294\n"
     ]
    },
    {
     "name": "stderr",
     "output_type": "stream",
     "text": [
      "/home/mauricioguerrero/Software/miniconda3/envs/bempp_prod/lib/python3.8/site-packages/scipy/sparse/linalg/dsolve/linsolve.py:318: SparseEfficiencyWarning: splu requires CSC matrix format\n",
      "  warn('splu requires CSC matrix format', SparseEfficiencyWarning)\n"
     ]
    },
    {
     "name": "stdout",
     "output_type": "stream",
     "text": [
      "Numero de iteraciones de GMRES de dU_h: 32\n",
      "Numero de iteraciones de GMRES: 326\n",
      "Tiempo total en GMRES:  3.28 [s]\n",
      "Energia de Solvatacion en BEM/BEM: -72.537782 [kCal/mol]\n",
      "Tiempo total:  8.42 [s]\n",
      "Caso BEM/BEM(NoRegularizado)\n",
      "FEM dofs: 1594\n",
      "BEM dofs: 2294\n",
      "TRA dofs: 1149\n"
     ]
    },
    {
     "name": "stderr",
     "output_type": "stream",
     "text": [
      "/home/mauricioguerrero/Software/miniconda3/envs/bempp_prod/lib/python3.8/site-packages/scipy/sparse/linalg/dsolve/linsolve.py:318: SparseEfficiencyWarning: splu requires CSC matrix format\n",
      "  warn('splu requires CSC matrix format', SparseEfficiencyWarning)\n"
     ]
    },
    {
     "name": "stdout",
     "output_type": "stream",
     "text": [
      "Numero de iteraciones de GMRES: 227\n",
      "Tiempo total en GMRES:  0.43 [s]\n",
      "Energia de Solvatacion en FEM/BEM: -72.540660 [kCal/mol]\n",
      "Tiempo total:  4.78 [s]\n",
      "Caso BEM/BEM(Regularizado)\n",
      "FEM dofs: 1594\n",
      "BEM dofs: 2294\n",
      "TRA dofs: 1149\n"
     ]
    },
    {
     "name": "stderr",
     "output_type": "stream",
     "text": [
      "/home/mauricioguerrero/Software/miniconda3/envs/bempp_prod/lib/python3.8/site-packages/scipy/sparse/linalg/dsolve/linsolve.py:318: SparseEfficiencyWarning: splu requires CSC matrix format\n",
      "  warn('splu requires CSC matrix format', SparseEfficiencyWarning)\n"
     ]
    },
    {
     "name": "stdout",
     "output_type": "stream",
     "text": [
      "Numero de iteraciones de GMRES: 480\n",
      "Tiempo total en GMRES:  1.65 [s]\n",
      "Energia de Solvatacion en FEM/BEM: -72.540278 [kCal/mol]\n",
      "Tiempo total:  6.47 [s]\n",
      "Caso BEM/BEM(3Terminos)\n",
      "FEM dofs: 1594\n",
      "BEM dofs: 2294\n",
      "TRA dofs: 1149\n"
     ]
    },
    {
     "name": "stderr",
     "output_type": "stream",
     "text": [
      "/home/mauricioguerrero/Software/miniconda3/envs/bempp_prod/lib/python3.8/site-packages/scipy/sparse/linalg/dsolve/linsolve.py:318: SparseEfficiencyWarning: splu requires CSC matrix format\n",
      "  warn('splu requires CSC matrix format', SparseEfficiencyWarning)\n"
     ]
    },
    {
     "name": "stdout",
     "output_type": "stream",
     "text": [
      "Numero de iteraciones de GMRES: 900\n",
      "Tiempo total en GMRES:  2.95 [s]\n",
      "Energia de Solvatacion en FEM/BEM: -72.281734 [kCal/mol]\n",
      "Tiempo total:  8.37 [s]\n",
      "Caso BEM/BEM/BEM\n",
      "DS1 dofs: 1149\n",
      "NS1 dofs: 2294\n",
      "DS2 dofs: 1651\n",
      "NS2 dofs: 3298\n"
     ]
    },
    {
     "name": "stderr",
     "output_type": "stream",
     "text": [
      "/home/mauricioguerrero/Software/miniconda3/envs/bempp_prod/lib/python3.8/site-packages/scipy/sparse/linalg/dsolve/linsolve.py:318: SparseEfficiencyWarning: splu requires CSC matrix format\n",
      "  warn('splu requires CSC matrix format', SparseEfficiencyWarning)\n"
     ]
    },
    {
     "name": "stdout",
     "output_type": "stream",
     "text": [
      "Numero de iteraciones de GMRES: 95\n",
      "Tiempo total en GMRES:  7.30 [s]\n",
      "Energia de Solvatacion en BEM/BEM/BEM: -72.435426 [kCal/mol]\n",
      "Tiempo total:  9.74 [s]\n",
      "Caso BEM/BEM/BEM\n",
      "DS1 dofs: 1149\n",
      "NS1 dofs: 2294\n",
      "DS2 dofs: 1651\n",
      "NS2 dofs: 3298\n"
     ]
    },
    {
     "name": "stderr",
     "output_type": "stream",
     "text": [
      "/home/mauricioguerrero/Software/miniconda3/envs/bempp_prod/lib/python3.8/site-packages/scipy/sparse/linalg/dsolve/linsolve.py:318: SparseEfficiencyWarning: splu requires CSC matrix format\n",
      "  warn('splu requires CSC matrix format', SparseEfficiencyWarning)\n"
     ]
    },
    {
     "name": "stdout",
     "output_type": "stream",
     "text": [
      "Numero de iteraciones de GMRES: 112\n",
      "Tiempo total en GMRES:  7.09 [s]\n",
      "Energia de Solvatacion en BEM/BEM/BEM: -68.058436 [kCal/mol]\n",
      "Tiempo total:  9.79 [s]\n",
      "Caso BEM/FEM/BEM(Constante)\n",
      "Found 2 meshes\n",
      "FEM dofs: 3456\n",
      "BEM1 dofs: 2294\n",
      "BEM2 dofs: 3298\n",
      "Tra1 dofs: 1149\n",
      "Tra2 dofs: 1651\n",
      "TraL dofs: 2800\n"
     ]
    },
    {
     "name": "stderr",
     "output_type": "stream",
     "text": [
      "/home/mauricioguerrero/Software/miniconda3/envs/bempp_prod/lib/python3.8/site-packages/scipy/sparse/linalg/dsolve/linsolve.py:318: SparseEfficiencyWarning: splu requires CSC matrix format\n",
      "  warn('splu requires CSC matrix format', SparseEfficiencyWarning)\n"
     ]
    },
    {
     "name": "stdout",
     "output_type": "stream",
     "text": [
      "Numero de iteraciones de GMRES: 125\n",
      "Tiempo total en GMRES:  2.11 [s]\n",
      "Energia de Solvatacion en BEM/FEM/BEM: -72.440772 [kCal/mol]\n",
      "Tiempo total:  6.16 [s]\n",
      "Caso BEM/FEM/BEM(Constante)\n",
      "Found 2 meshes\n",
      "FEM dofs: 3456\n",
      "BEM1 dofs: 2294\n",
      "BEM2 dofs: 3298\n",
      "Tra1 dofs: 1149\n",
      "Tra2 dofs: 1651\n",
      "TraL dofs: 2800\n"
     ]
    },
    {
     "name": "stderr",
     "output_type": "stream",
     "text": [
      "/home/mauricioguerrero/Software/miniconda3/envs/bempp_prod/lib/python3.8/site-packages/scipy/sparse/linalg/dsolve/linsolve.py:318: SparseEfficiencyWarning: splu requires CSC matrix format\n",
      "  warn('splu requires CSC matrix format', SparseEfficiencyWarning)\n"
     ]
    },
    {
     "name": "stdout",
     "output_type": "stream",
     "text": [
      "Numero de iteraciones de GMRES: 114\n",
      "Tiempo total en GMRES:  1.93 [s]\n",
      "Energia de Solvatacion en BEM/FEM/BEM: -68.102073 [kCal/mol]\n",
      "Tiempo total:  6.02 [s]\n",
      "Caso BEM/FEM/BEM(Variable_Lineal)\n",
      "Found 2 meshes\n",
      "FEM dofs: 3456\n",
      "BEM1 dofs: 2294\n",
      "BEM2 dofs: 3298\n",
      "Tra1 dofs: 1149\n",
      "Tra2 dofs: 1651\n",
      "TraL dofs: 2800\n"
     ]
    },
    {
     "name": "stderr",
     "output_type": "stream",
     "text": [
      "/home/mauricioguerrero/Software/miniconda3/envs/bempp_prod/lib/python3.8/site-packages/scipy/sparse/linalg/dsolve/linsolve.py:318: SparseEfficiencyWarning: splu requires CSC matrix format\n",
      "  warn('splu requires CSC matrix format', SparseEfficiencyWarning)\n"
     ]
    },
    {
     "name": "stdout",
     "output_type": "stream",
     "text": [
      "Numero de iteraciones de GMRES: 105\n",
      "Tiempo total en GMRES:  1.80 [s]\n",
      "Energia de Solvatacion en BEM/FEM/BEM: -71.817272 [kCal/mol]\n",
      "Tiempo total:  9.07 [s]\n",
      "Caso BEM/FEM/BEM(Variable_por_Radio)\n",
      "Found 2 meshes\n",
      "FEM dofs: 3456\n",
      "BEM1 dofs: 2294\n",
      "BEM2 dofs: 3298\n",
      "Tra1 dofs: 1149\n",
      "Tra2 dofs: 1651\n",
      "TraL dofs: 2800\n"
     ]
    },
    {
     "name": "stderr",
     "output_type": "stream",
     "text": [
      "/home/mauricioguerrero/Software/miniconda3/envs/bempp_prod/lib/python3.8/site-packages/scipy/sparse/linalg/dsolve/linsolve.py:318: SparseEfficiencyWarning: splu requires CSC matrix format\n",
      "  warn('splu requires CSC matrix format', SparseEfficiencyWarning)\n"
     ]
    },
    {
     "name": "stdout",
     "output_type": "stream",
     "text": [
      "Numero de iteraciones de GMRES: 115\n",
      "Tiempo total en GMRES:  1.95 [s]\n",
      "Energia de Solvatacion en BEM/FEM/BEM: -67.937918 [kCal/mol]\n",
      "Tiempo total:  6.46 [s]\n",
      "Tiempo total por grupo: 87.53 [s]\n",
      "%%%%%%%%%%%%%\n",
      "3 3\n",
      "Caso BEM/BEM(NoRegularizado)\n",
      "Found 1 meshes\n",
      "DS dofs: 2334\n",
      "NS dofs: 4664\n"
     ]
    },
    {
     "name": "stderr",
     "output_type": "stream",
     "text": [
      "/home/mauricioguerrero/Software/miniconda3/envs/bempp_prod/lib/python3.8/site-packages/scipy/sparse/linalg/dsolve/linsolve.py:318: SparseEfficiencyWarning: splu requires CSC matrix format\n",
      "  warn('splu requires CSC matrix format', SparseEfficiencyWarning)\n"
     ]
    },
    {
     "name": "stdout",
     "output_type": "stream",
     "text": [
      "Numero de iteraciones de GMRES: 52\n",
      "Tiempo total en GMRES:  5.05 [s]\n",
      "Energia de Solvatacion en BEM/BEM: -72.479182 [kCal/mol]\n",
      "Tiempo total: 10.37 [s]\n",
      "Caso BEM/BEM(Regularizado)\n",
      "Found 1 meshes\n",
      "DS dofs: 2334\n",
      "NS dofs: 4664\n"
     ]
    },
    {
     "name": "stderr",
     "output_type": "stream",
     "text": [
      "/home/mauricioguerrero/Software/miniconda3/envs/bempp_prod/lib/python3.8/site-packages/scipy/sparse/linalg/dsolve/linsolve.py:318: SparseEfficiencyWarning: splu requires CSC matrix format\n",
      "  warn('splu requires CSC matrix format', SparseEfficiencyWarning)\n"
     ]
    },
    {
     "name": "stdout",
     "output_type": "stream",
     "text": [
      "Numero de iteraciones de GMRES: 41\n",
      "Tiempo total en GMRES:  2.73 [s]\n",
      "Energia de Solvatacion en BEM/BEM: -72.479020 [kCal/mol]\n",
      "Tiempo total:  9.34 [s]\n",
      "Caso BEM/BEM(3Terminos)\n",
      "Found 1 meshes\n",
      "DS dofs: 2334\n",
      "NS dofs: 4664\n"
     ]
    },
    {
     "name": "stderr",
     "output_type": "stream",
     "text": [
      "/home/mauricioguerrero/Software/miniconda3/envs/bempp_prod/lib/python3.8/site-packages/scipy/sparse/linalg/dsolve/linsolve.py:318: SparseEfficiencyWarning: splu requires CSC matrix format\n",
      "  warn('splu requires CSC matrix format', SparseEfficiencyWarning)\n"
     ]
    },
    {
     "name": "stdout",
     "output_type": "stream",
     "text": [
      "Numero de iteraciones de GMRES de dU_h: 36\n",
      "Numero de iteraciones de GMRES: 362\n",
      "Tiempo total en GMRES: 17.46 [s]\n",
      "Energia de Solvatacion en BEM/BEM: -72.479020 [kCal/mol]\n",
      "Tiempo total: 25.01 [s]\n",
      "Caso BEM/BEM(NoRegularizado)\n",
      "FEM dofs: 3387\n",
      "BEM dofs: 4664\n",
      "TRA dofs: 2334\n"
     ]
    },
    {
     "name": "stderr",
     "output_type": "stream",
     "text": [
      "/home/mauricioguerrero/Software/miniconda3/envs/bempp_prod/lib/python3.8/site-packages/scipy/sparse/linalg/dsolve/linsolve.py:318: SparseEfficiencyWarning: splu requires CSC matrix format\n",
      "  warn('splu requires CSC matrix format', SparseEfficiencyWarning)\n"
     ]
    },
    {
     "name": "stdout",
     "output_type": "stream",
     "text": [
      "Numero de iteraciones de GMRES: 484\n",
      "Tiempo total en GMRES:  6.53 [s]\n",
      "Energia de Solvatacion en FEM/BEM: -72.479032 [kCal/mol]\n",
      "Tiempo total: 12.96 [s]\n",
      "Caso BEM/BEM(Regularizado)\n",
      "FEM dofs: 3387\n",
      "BEM dofs: 4664\n",
      "TRA dofs: 2334\n"
     ]
    },
    {
     "name": "stderr",
     "output_type": "stream",
     "text": [
      "/home/mauricioguerrero/Software/miniconda3/envs/bempp_prod/lib/python3.8/site-packages/scipy/sparse/linalg/dsolve/linsolve.py:318: SparseEfficiencyWarning: splu requires CSC matrix format\n",
      "  warn('splu requires CSC matrix format', SparseEfficiencyWarning)\n"
     ]
    },
    {
     "name": "stdout",
     "output_type": "stream",
     "text": [
      "Numero de iteraciones de GMRES: 859\n",
      "Tiempo total en GMRES: 23.34 [s]\n",
      "Energia de Solvatacion en FEM/BEM: -72.478944 [kCal/mol]\n",
      "Tiempo total: 30.50 [s]\n",
      "Caso BEM/BEM(3Terminos)\n",
      "FEM dofs: 3387\n",
      "BEM dofs: 4664\n",
      "TRA dofs: 2334\n"
     ]
    },
    {
     "name": "stderr",
     "output_type": "stream",
     "text": [
      "/home/mauricioguerrero/Software/miniconda3/envs/bempp_prod/lib/python3.8/site-packages/scipy/sparse/linalg/dsolve/linsolve.py:318: SparseEfficiencyWarning: splu requires CSC matrix format\n",
      "  warn('splu requires CSC matrix format', SparseEfficiencyWarning)\n"
     ]
    },
    {
     "name": "stdout",
     "output_type": "stream",
     "text": [
      "1000 1.2037464911077254e-06\n",
      "Numero de iteraciones de GMRES: 1280\n",
      "Tiempo total en GMRES: 36.67 [s]\n",
      "Energia de Solvatacion en FEM/BEM: -72.289553 [kCal/mol]\n",
      "Tiempo total: 44.62 [s]\n",
      "Caso BEM/BEM/BEM\n",
      "DS1 dofs: 2334\n",
      "NS1 dofs: 4664\n",
      "DS2 dofs: 3322\n",
      "NS2 dofs: 6640\n"
     ]
    },
    {
     "name": "stderr",
     "output_type": "stream",
     "text": [
      "/home/mauricioguerrero/Software/miniconda3/envs/bempp_prod/lib/python3.8/site-packages/scipy/sparse/linalg/dsolve/linsolve.py:318: SparseEfficiencyWarning: splu requires CSC matrix format\n",
      "  warn('splu requires CSC matrix format', SparseEfficiencyWarning)\n"
     ]
    },
    {
     "name": "stdout",
     "output_type": "stream",
     "text": [
      "Numero de iteraciones de GMRES: 80\n",
      "Tiempo total en GMRES: 21.66 [s]\n",
      "Energia de Solvatacion en BEM/BEM/BEM: -72.376421 [kCal/mol]\n",
      "Tiempo total: 25.48 [s]\n",
      "Caso BEM/BEM/BEM\n",
      "DS1 dofs: 2334\n",
      "NS1 dofs: 4664\n",
      "DS2 dofs: 3322\n",
      "NS2 dofs: 6640\n"
     ]
    },
    {
     "name": "stderr",
     "output_type": "stream",
     "text": [
      "/home/mauricioguerrero/Software/miniconda3/envs/bempp_prod/lib/python3.8/site-packages/scipy/sparse/linalg/dsolve/linsolve.py:318: SparseEfficiencyWarning: splu requires CSC matrix format\n",
      "  warn('splu requires CSC matrix format', SparseEfficiencyWarning)\n"
     ]
    },
    {
     "name": "stdout",
     "output_type": "stream",
     "text": [
      "Numero de iteraciones de GMRES: 101\n",
      "Tiempo total en GMRES: 22.71 [s]\n",
      "Energia de Solvatacion en BEM/BEM/BEM: -68.008024 [kCal/mol]\n",
      "Tiempo total: 26.43 [s]\n",
      "Caso BEM/FEM/BEM(Constante)\n",
      "Found 2 meshes\n",
      "FEM dofs: 7614\n",
      "BEM1 dofs: 4664\n",
      "BEM2 dofs: 6640\n",
      "Tra1 dofs: 2334\n",
      "Tra2 dofs: 3322\n",
      "TraL dofs: 5656\n"
     ]
    },
    {
     "name": "stderr",
     "output_type": "stream",
     "text": [
      "/home/mauricioguerrero/Software/miniconda3/envs/bempp_prod/lib/python3.8/site-packages/scipy/sparse/linalg/dsolve/linsolve.py:318: SparseEfficiencyWarning: splu requires CSC matrix format\n",
      "  warn('splu requires CSC matrix format', SparseEfficiencyWarning)\n"
     ]
    },
    {
     "name": "stdout",
     "output_type": "stream",
     "text": [
      "Numero de iteraciones de GMRES: 173\n",
      "Tiempo total en GMRES: 13.45 [s]\n",
      "Energia de Solvatacion en BEM/FEM/BEM: -72.379657 [kCal/mol]\n",
      "Tiempo total: 21.36 [s]\n",
      "Caso BEM/FEM/BEM(Constante)\n",
      "Found 2 meshes\n",
      "FEM dofs: 7614\n",
      "BEM1 dofs: 4664\n",
      "BEM2 dofs: 6640\n",
      "Tra1 dofs: 2334\n",
      "Tra2 dofs: 3322\n",
      "TraL dofs: 5656\n"
     ]
    },
    {
     "name": "stderr",
     "output_type": "stream",
     "text": [
      "/home/mauricioguerrero/Software/miniconda3/envs/bempp_prod/lib/python3.8/site-packages/scipy/sparse/linalg/dsolve/linsolve.py:318: SparseEfficiencyWarning: splu requires CSC matrix format\n",
      "  warn('splu requires CSC matrix format', SparseEfficiencyWarning)\n"
     ]
    },
    {
     "name": "stdout",
     "output_type": "stream",
     "text": [
      "Numero de iteraciones de GMRES: 128\n",
      "Tiempo total en GMRES: 11.16 [s]\n",
      "Energia de Solvatacion en BEM/FEM/BEM: -68.033989 [kCal/mol]\n",
      "Tiempo total: 19.24 [s]\n",
      "Caso BEM/FEM/BEM(Variable_Lineal)\n",
      "Found 2 meshes\n",
      "FEM dofs: 7614\n",
      "BEM1 dofs: 4664\n",
      "BEM2 dofs: 6640\n",
      "Tra1 dofs: 2334\n",
      "Tra2 dofs: 3322\n",
      "TraL dofs: 5656\n"
     ]
    },
    {
     "name": "stderr",
     "output_type": "stream",
     "text": [
      "/home/mauricioguerrero/Software/miniconda3/envs/bempp_prod/lib/python3.8/site-packages/scipy/sparse/linalg/dsolve/linsolve.py:318: SparseEfficiencyWarning: splu requires CSC matrix format\n",
      "  warn('splu requires CSC matrix format', SparseEfficiencyWarning)\n"
     ]
    },
    {
     "name": "stdout",
     "output_type": "stream",
     "text": [
      "Numero de iteraciones de GMRES: 141\n",
      "Tiempo total en GMRES: 11.20 [s]\n",
      "Energia de Solvatacion en BEM/FEM/BEM: -71.664502 [kCal/mol]\n",
      "Tiempo total: 33.61 [s]\n",
      "Caso BEM/FEM/BEM(Variable_por_Radio)\n",
      "Found 2 meshes\n",
      "FEM dofs: 7614\n",
      "BEM1 dofs: 4664\n",
      "BEM2 dofs: 6640\n",
      "Tra1 dofs: 2334\n",
      "Tra2 dofs: 3322\n",
      "TraL dofs: 5656\n"
     ]
    },
    {
     "name": "stderr",
     "output_type": "stream",
     "text": [
      "/home/mauricioguerrero/Software/miniconda3/envs/bempp_prod/lib/python3.8/site-packages/scipy/sparse/linalg/dsolve/linsolve.py:318: SparseEfficiencyWarning: splu requires CSC matrix format\n",
      "  warn('splu requires CSC matrix format', SparseEfficiencyWarning)\n"
     ]
    },
    {
     "name": "stdout",
     "output_type": "stream",
     "text": [
      "Numero de iteraciones de GMRES: 129\n",
      "Tiempo total en GMRES: 12.25 [s]\n",
      "Energia de Solvatacion en BEM/FEM/BEM: -67.869557 [kCal/mol]\n",
      "Tiempo total: 20.42 [s]\n",
      "Tiempo total por grupo: 279.85 [s]\n",
      "%%%%%%%%%%%%%\n",
      "4 4\n",
      "Caso BEM/BEM(NoRegularizado)\n",
      "Found 1 meshes\n",
      "DS dofs: 4591\n",
      "NS dofs: 9178\n"
     ]
    },
    {
     "name": "stderr",
     "output_type": "stream",
     "text": [
      "/home/mauricioguerrero/Software/miniconda3/envs/bempp_prod/lib/python3.8/site-packages/scipy/sparse/linalg/dsolve/linsolve.py:318: SparseEfficiencyWarning: splu requires CSC matrix format\n",
      "  warn('splu requires CSC matrix format', SparseEfficiencyWarning)\n"
     ]
    },
    {
     "name": "stdout",
     "output_type": "stream",
     "text": [
      "Numero de iteraciones de GMRES: 53\n",
      "Tiempo total en GMRES: 16.05 [s]\n",
      "Energia de Solvatacion en BEM/BEM: -72.447914 [kCal/mol]\n",
      "Tiempo total: 22.71 [s]\n",
      "Caso BEM/BEM(Regularizado)\n",
      "Found 1 meshes\n",
      "DS dofs: 4591\n",
      "NS dofs: 9178\n"
     ]
    },
    {
     "name": "stderr",
     "output_type": "stream",
     "text": [
      "/home/mauricioguerrero/Software/miniconda3/envs/bempp_prod/lib/python3.8/site-packages/scipy/sparse/linalg/dsolve/linsolve.py:318: SparseEfficiencyWarning: splu requires CSC matrix format\n",
      "  warn('splu requires CSC matrix format', SparseEfficiencyWarning)\n"
     ]
    },
    {
     "name": "stdout",
     "output_type": "stream",
     "text": [
      "Numero de iteraciones de GMRES: 46\n",
      "Tiempo total en GMRES: 11.20 [s]\n",
      "Energia de Solvatacion en BEM/BEM: -72.447868 [kCal/mol]\n",
      "Tiempo total: 22.37 [s]\n",
      "Caso BEM/BEM(3Terminos)\n",
      "Found 1 meshes\n",
      "DS dofs: 4591\n",
      "NS dofs: 9178\n"
     ]
    },
    {
     "name": "stderr",
     "output_type": "stream",
     "text": [
      "/home/mauricioguerrero/Software/miniconda3/envs/bempp_prod/lib/python3.8/site-packages/scipy/sparse/linalg/dsolve/linsolve.py:318: SparseEfficiencyWarning: splu requires CSC matrix format\n",
      "  warn('splu requires CSC matrix format', SparseEfficiencyWarning)\n"
     ]
    },
    {
     "name": "stdout",
     "output_type": "stream",
     "text": [
      "Numero de iteraciones de GMRES de dU_h: 40\n",
      "Numero de iteraciones de GMRES: 340\n",
      "Tiempo total en GMRES: 51.10 [s]\n",
      "Energia de Solvatacion en BEM/BEM: -72.447875 [kCal/mol]\n",
      "Tiempo total: 66.08 [s]\n",
      "Caso BEM/BEM(NoRegularizado)\n",
      "FEM dofs: 6935\n",
      "BEM dofs: 9178\n",
      "TRA dofs: 4591\n"
     ]
    },
    {
     "name": "stderr",
     "output_type": "stream",
     "text": [
      "/home/mauricioguerrero/Software/miniconda3/envs/bempp_prod/lib/python3.8/site-packages/scipy/sparse/linalg/dsolve/linsolve.py:318: SparseEfficiencyWarning: splu requires CSC matrix format\n",
      "  warn('splu requires CSC matrix format', SparseEfficiencyWarning)\n"
     ]
    },
    {
     "name": "stdout",
     "output_type": "stream",
     "text": [
      "Numero de iteraciones de GMRES: 360\n",
      "Tiempo total en GMRES: 23.00 [s]\n",
      "Energia de Solvatacion en FEM/BEM: -72.448159 [kCal/mol]\n",
      "Tiempo total: 34.07 [s]\n",
      "Caso BEM/BEM(Regularizado)\n",
      "FEM dofs: 6935\n",
      "BEM dofs: 9178\n",
      "TRA dofs: 4591\n"
     ]
    },
    {
     "name": "stderr",
     "output_type": "stream",
     "text": [
      "/home/mauricioguerrero/Software/miniconda3/envs/bempp_prod/lib/python3.8/site-packages/scipy/sparse/linalg/dsolve/linsolve.py:318: SparseEfficiencyWarning: splu requires CSC matrix format\n",
      "  warn('splu requires CSC matrix format', SparseEfficiencyWarning)\n"
     ]
    },
    {
     "name": "stdout",
     "output_type": "stream",
     "text": [
      "Numero de iteraciones de GMRES: 660\n",
      "Tiempo total en GMRES: 54.50 [s]\n",
      "Energia de Solvatacion en FEM/BEM: -72.449743 [kCal/mol]\n",
      "Tiempo total: 68.28 [s]\n",
      "Caso BEM/BEM(3Terminos)\n",
      "FEM dofs: 6935\n",
      "BEM dofs: 9178\n",
      "TRA dofs: 4591\n"
     ]
    },
    {
     "name": "stderr",
     "output_type": "stream",
     "text": [
      "/home/mauricioguerrero/Software/miniconda3/envs/bempp_prod/lib/python3.8/site-packages/scipy/sparse/linalg/dsolve/linsolve.py:318: SparseEfficiencyWarning: splu requires CSC matrix format\n",
      "  warn('splu requires CSC matrix format', SparseEfficiencyWarning)\n"
     ]
    },
    {
     "name": "stdout",
     "output_type": "stream",
     "text": [
      "Numero de iteraciones de GMRES: 820\n",
      "Tiempo total en GMRES: 59.98 [s]\n",
      "Energia de Solvatacion en FEM/BEM: -72.294907 [kCal/mol]\n",
      "Tiempo total: 74.62 [s]\n",
      "Caso BEM/BEM/BEM\n",
      "DS1 dofs: 4591\n",
      "NS1 dofs: 9178\n",
      "DS2 dofs: 6611\n",
      "NS2 dofs: 13218\n"
     ]
    },
    {
     "name": "stderr",
     "output_type": "stream",
     "text": [
      "/home/mauricioguerrero/Software/miniconda3/envs/bempp_prod/lib/python3.8/site-packages/scipy/sparse/linalg/dsolve/linsolve.py:318: SparseEfficiencyWarning: splu requires CSC matrix format\n",
      "  warn('splu requires CSC matrix format', SparseEfficiencyWarning)\n"
     ]
    },
    {
     "name": "stdout",
     "output_type": "stream",
     "text": [
      "Numero de iteraciones de GMRES: 88\n",
      "Tiempo total en GMRES: 81.01 [s]\n",
      "Energia de Solvatacion en BEM/BEM/BEM: -72.345222 [kCal/mol]\n",
      "Tiempo total: 86.74 [s]\n",
      "Caso BEM/BEM/BEM\n",
      "DS1 dofs: 4591\n",
      "NS1 dofs: 9178\n",
      "DS2 dofs: 6611\n",
      "NS2 dofs: 13218\n"
     ]
    },
    {
     "name": "stderr",
     "output_type": "stream",
     "text": [
      "/home/mauricioguerrero/Software/miniconda3/envs/bempp_prod/lib/python3.8/site-packages/scipy/sparse/linalg/dsolve/linsolve.py:318: SparseEfficiencyWarning: splu requires CSC matrix format\n",
      "  warn('splu requires CSC matrix format', SparseEfficiencyWarning)\n"
     ]
    },
    {
     "name": "stdout",
     "output_type": "stream",
     "text": [
      "Numero de iteraciones de GMRES: 82\n",
      "Tiempo total en GMRES: 72.17 [s]\n",
      "Energia de Solvatacion en BEM/BEM/BEM: -67.981762 [kCal/mol]\n",
      "Tiempo total: 78.07 [s]\n",
      "Caso BEM/FEM/BEM(Constante)\n",
      "Found 2 meshes\n",
      "FEM dofs: 18289\n",
      "BEM1 dofs: 9178\n",
      "BEM2 dofs: 13218\n",
      "Tra1 dofs: 4591\n",
      "Tra2 dofs: 6611\n",
      "TraL dofs: 11202\n"
     ]
    },
    {
     "name": "stderr",
     "output_type": "stream",
     "text": [
      "/home/mauricioguerrero/Software/miniconda3/envs/bempp_prod/lib/python3.8/site-packages/scipy/sparse/linalg/dsolve/linsolve.py:318: SparseEfficiencyWarning: splu requires CSC matrix format\n",
      "  warn('splu requires CSC matrix format', SparseEfficiencyWarning)\n"
     ]
    },
    {
     "name": "stdout",
     "output_type": "stream",
     "text": [
      "Numero de iteraciones de GMRES: 312\n",
      "Tiempo total en GMRES: 79.35 [s]\n",
      "Energia de Solvatacion en BEM/FEM/BEM: -72.346944 [kCal/mol]\n",
      "Tiempo total: 97.77 [s]\n",
      "Caso BEM/FEM/BEM(Constante)\n",
      "Found 2 meshes\n",
      "FEM dofs: 18289\n",
      "BEM1 dofs: 9178\n",
      "BEM2 dofs: 13218\n",
      "Tra1 dofs: 4591\n",
      "Tra2 dofs: 6611\n",
      "TraL dofs: 11202\n"
     ]
    },
    {
     "name": "stderr",
     "output_type": "stream",
     "text": [
      "/home/mauricioguerrero/Software/miniconda3/envs/bempp_prod/lib/python3.8/site-packages/scipy/sparse/linalg/dsolve/linsolve.py:318: SparseEfficiencyWarning: splu requires CSC matrix format\n",
      "  warn('splu requires CSC matrix format', SparseEfficiencyWarning)\n"
     ]
    },
    {
     "name": "stdout",
     "output_type": "stream",
     "text": [
      "Numero de iteraciones de GMRES: 143\n",
      "Tiempo total en GMRES: 41.47 [s]\n",
      "Energia de Solvatacion en BEM/FEM/BEM: -67.995560 [kCal/mol]\n",
      "Tiempo total: 61.73 [s]\n",
      "Caso BEM/FEM/BEM(Variable_Lineal)\n",
      "Found 2 meshes\n",
      "FEM dofs: 18289\n",
      "BEM1 dofs: 9178\n",
      "BEM2 dofs: 13218\n",
      "Tra1 dofs: 4591\n",
      "Tra2 dofs: 6611\n",
      "TraL dofs: 11202\n"
     ]
    },
    {
     "name": "stderr",
     "output_type": "stream",
     "text": [
      "/home/mauricioguerrero/Software/miniconda3/envs/bempp_prod/lib/python3.8/site-packages/scipy/sparse/linalg/dsolve/linsolve.py:318: SparseEfficiencyWarning: splu requires CSC matrix format\n",
      "  warn('splu requires CSC matrix format', SparseEfficiencyWarning)\n"
     ]
    },
    {
     "name": "stdout",
     "output_type": "stream",
     "text": [
      "Numero de iteraciones de GMRES: 222\n",
      "Tiempo total en GMRES: 57.92 [s]\n",
      "Energia de Solvatacion en BEM/FEM/BEM: -71.490767 [kCal/mol]\n",
      "Tiempo total: 151.12 [s]\n",
      "Caso BEM/FEM/BEM(Variable_por_Radio)\n",
      "Found 2 meshes\n",
      "FEM dofs: 18289\n",
      "BEM1 dofs: 9178\n",
      "BEM2 dofs: 13218\n",
      "Tra1 dofs: 4591\n",
      "Tra2 dofs: 6611\n",
      "TraL dofs: 11202\n"
     ]
    },
    {
     "name": "stderr",
     "output_type": "stream",
     "text": [
      "/home/mauricioguerrero/Software/miniconda3/envs/bempp_prod/lib/python3.8/site-packages/scipy/sparse/linalg/dsolve/linsolve.py:318: SparseEfficiencyWarning: splu requires CSC matrix format\n",
      "  warn('splu requires CSC matrix format', SparseEfficiencyWarning)\n"
     ]
    },
    {
     "name": "stdout",
     "output_type": "stream",
     "text": [
      "Numero de iteraciones de GMRES: 145\n",
      "Tiempo total en GMRES: 46.10 [s]\n",
      "Energia de Solvatacion en BEM/FEM/BEM: -67.830910 [kCal/mol]\n",
      "Tiempo total: 67.89 [s]\n",
      "Tiempo total por grupo: 833.02 [s]\n",
      "%%%%%%%%%%%%%\n",
      "5 5\n",
      "Caso BEM/BEM(NoRegularizado)\n",
      "Found 1 meshes\n",
      "DS dofs: 9214\n",
      "NS dofs: 18424\n"
     ]
    },
    {
     "name": "stderr",
     "output_type": "stream",
     "text": [
      "/home/mauricioguerrero/Software/miniconda3/envs/bempp_prod/lib/python3.8/site-packages/scipy/sparse/linalg/dsolve/linsolve.py:318: SparseEfficiencyWarning: splu requires CSC matrix format\n",
      "  warn('splu requires CSC matrix format', SparseEfficiencyWarning)\n"
     ]
    },
    {
     "name": "stdout",
     "output_type": "stream",
     "text": [
      "Numero de iteraciones de GMRES: 56\n",
      "Tiempo total en GMRES: 72.70 [s]\n",
      "Energia de Solvatacion en BEM/BEM: -72.433462 [kCal/mol]\n",
      "Tiempo total: 82.33 [s]\n",
      "Caso BEM/BEM(Regularizado)\n",
      "Found 1 meshes\n",
      "DS dofs: 9214\n",
      "NS dofs: 18424\n"
     ]
    },
    {
     "name": "stderr",
     "output_type": "stream",
     "text": [
      "/home/mauricioguerrero/Software/miniconda3/envs/bempp_prod/lib/python3.8/site-packages/scipy/sparse/linalg/dsolve/linsolve.py:318: SparseEfficiencyWarning: splu requires CSC matrix format\n",
      "  warn('splu requires CSC matrix format', SparseEfficiencyWarning)\n"
     ]
    },
    {
     "name": "stdout",
     "output_type": "stream",
     "text": [
      "Numero de iteraciones de GMRES: 50\n",
      "Tiempo total en GMRES: 51.99 [s]\n",
      "Energia de Solvatacion en BEM/BEM: -72.433455 [kCal/mol]\n",
      "Tiempo total: 80.62 [s]\n",
      "Caso BEM/BEM(3Terminos)\n",
      "Found 1 meshes\n",
      "DS dofs: 9214\n",
      "NS dofs: 18424\n"
     ]
    },
    {
     "name": "stderr",
     "output_type": "stream",
     "text": [
      "/home/mauricioguerrero/Software/miniconda3/envs/bempp_prod/lib/python3.8/site-packages/scipy/sparse/linalg/dsolve/linsolve.py:318: SparseEfficiencyWarning: splu requires CSC matrix format\n",
      "  warn('splu requires CSC matrix format', SparseEfficiencyWarning)\n"
     ]
    },
    {
     "name": "stdout",
     "output_type": "stream",
     "text": [
      "Numero de iteraciones de GMRES de dU_h: 49\n",
      "Numero de iteraciones de GMRES: 268\n",
      "Tiempo total en GMRES: 109.30 [s]\n",
      "Energia de Solvatacion en BEM/BEM: -72.433455 [kCal/mol]\n",
      "Tiempo total: 155.13 [s]\n",
      "Caso BEM/BEM(NoRegularizado)\n",
      "FEM dofs: 14427\n",
      "BEM dofs: 18424\n",
      "TRA dofs: 9214\n"
     ]
    },
    {
     "name": "stderr",
     "output_type": "stream",
     "text": [
      "/home/mauricioguerrero/Software/miniconda3/envs/bempp_prod/lib/python3.8/site-packages/scipy/sparse/linalg/dsolve/linsolve.py:318: SparseEfficiencyWarning: splu requires CSC matrix format\n",
      "  warn('splu requires CSC matrix format', SparseEfficiencyWarning)\n"
     ]
    },
    {
     "name": "stdout",
     "output_type": "stream",
     "text": [
      "Numero de iteraciones de GMRES: 376\n",
      "Tiempo total en GMRES: 60.87 [s]\n",
      "Energia de Solvatacion en FEM/BEM: -72.433902 [kCal/mol]\n",
      "Tiempo total: 88.79 [s]\n",
      "Caso BEM/BEM(Regularizado)\n",
      "FEM dofs: 14427\n",
      "BEM dofs: 18424\n",
      "TRA dofs: 9214\n"
     ]
    },
    {
     "name": "stderr",
     "output_type": "stream",
     "text": [
      "/home/mauricioguerrero/Software/miniconda3/envs/bempp_prod/lib/python3.8/site-packages/scipy/sparse/linalg/dsolve/linsolve.py:318: SparseEfficiencyWarning: splu requires CSC matrix format\n",
      "  warn('splu requires CSC matrix format', SparseEfficiencyWarning)\n"
     ]
    },
    {
     "name": "stdout",
     "output_type": "stream",
     "text": [
      "Numero de iteraciones de GMRES: 820\n",
      "Tiempo total en GMRES: 172.01 [s]\n",
      "Energia de Solvatacion en FEM/BEM: -72.434026 [kCal/mol]\n",
      "Tiempo total: 208.70 [s]\n",
      "Caso BEM/BEM(3Terminos)\n",
      "FEM dofs: 14427\n",
      "BEM dofs: 18424\n",
      "TRA dofs: 9214\n"
     ]
    },
    {
     "name": "stderr",
     "output_type": "stream",
     "text": [
      "/home/mauricioguerrero/Software/miniconda3/envs/bempp_prod/lib/python3.8/site-packages/scipy/sparse/linalg/dsolve/linsolve.py:318: SparseEfficiencyWarning: splu requires CSC matrix format\n",
      "  warn('splu requires CSC matrix format', SparseEfficiencyWarning)\n"
     ]
    },
    {
     "name": "stdout",
     "output_type": "stream",
     "text": [
      "1000 1.544879209393297e-06\n",
      "2000 6.285905927393696e-07\n",
      "Numero de iteraciones de GMRES: 2475\n",
      "Tiempo total en GMRES: 448.60 [s]\n",
      "Energia de Solvatacion en FEM/BEM: -72.297618 [kCal/mol]\n",
      "Tiempo total: 483.39 [s]\n",
      "Caso BEM/BEM/BEM\n",
      "DS1 dofs: 9214\n",
      "NS1 dofs: 18424\n",
      "DS2 dofs: 13265\n",
      "NS2 dofs: 26526\n"
     ]
    },
    {
     "name": "stderr",
     "output_type": "stream",
     "text": [
      "/home/mauricioguerrero/Software/miniconda3/envs/bempp_prod/lib/python3.8/site-packages/scipy/sparse/linalg/dsolve/linsolve.py:318: SparseEfficiencyWarning: splu requires CSC matrix format\n",
      "  warn('splu requires CSC matrix format', SparseEfficiencyWarning)\n"
     ]
    },
    {
     "name": "stdout",
     "output_type": "stream",
     "text": [
      "Numero de iteraciones de GMRES: 98\n",
      "Tiempo total en GMRES: 298.84 [s]\n",
      "Energia de Solvatacion en BEM/BEM/BEM: -72.330798 [kCal/mol]\n",
      "Tiempo total: 309.39 [s]\n",
      "Caso BEM/BEM/BEM\n",
      "DS1 dofs: 9214\n",
      "NS1 dofs: 18424\n",
      "DS2 dofs: 13265\n",
      "NS2 dofs: 26526\n"
     ]
    },
    {
     "name": "stderr",
     "output_type": "stream",
     "text": [
      "/home/mauricioguerrero/Software/miniconda3/envs/bempp_prod/lib/python3.8/site-packages/scipy/sparse/linalg/dsolve/linsolve.py:318: SparseEfficiencyWarning: splu requires CSC matrix format\n",
      "  warn('splu requires CSC matrix format', SparseEfficiencyWarning)\n"
     ]
    },
    {
     "name": "stdout",
     "output_type": "stream",
     "text": [
      "Numero de iteraciones de GMRES: 81\n",
      "Tiempo total en GMRES: 274.91 [s]\n",
      "Energia de Solvatacion en BEM/BEM/BEM: -67.969458 [kCal/mol]\n",
      "Tiempo total: 284.78 [s]\n",
      "Caso BEM/FEM/BEM(Constante)\n",
      "Found 2 meshes\n",
      "FEM dofs: 41428\n",
      "BEM1 dofs: 18424\n",
      "BEM2 dofs: 26526\n",
      "Tra1 dofs: 9214\n",
      "Tra2 dofs: 13265\n",
      "TraL dofs: 22479\n"
     ]
    },
    {
     "name": "stderr",
     "output_type": "stream",
     "text": [
      "/home/mauricioguerrero/Software/miniconda3/envs/bempp_prod/lib/python3.8/site-packages/scipy/sparse/linalg/dsolve/linsolve.py:318: SparseEfficiencyWarning: splu requires CSC matrix format\n",
      "  warn('splu requires CSC matrix format', SparseEfficiencyWarning)\n"
     ]
    },
    {
     "name": "stdout",
     "output_type": "stream",
     "text": [
      "Numero de iteraciones de GMRES: 348\n",
      "Tiempo total en GMRES: 239.84 [s]\n",
      "Energia de Solvatacion en BEM/FEM/BEM: -72.331817 [kCal/mol]\n",
      "Tiempo total: 301.84 [s]\n",
      "Caso BEM/FEM/BEM(Constante)\n",
      "Found 2 meshes\n",
      "FEM dofs: 41428\n",
      "BEM1 dofs: 18424\n",
      "BEM2 dofs: 26526\n",
      "Tra1 dofs: 9214\n",
      "Tra2 dofs: 13265\n",
      "TraL dofs: 22479\n"
     ]
    },
    {
     "name": "stderr",
     "output_type": "stream",
     "text": [
      "/home/mauricioguerrero/Software/miniconda3/envs/bempp_prod/lib/python3.8/site-packages/scipy/sparse/linalg/dsolve/linsolve.py:318: SparseEfficiencyWarning: splu requires CSC matrix format\n",
      "  warn('splu requires CSC matrix format', SparseEfficiencyWarning)\n"
     ]
    },
    {
     "name": "stdout",
     "output_type": "stream",
     "text": [
      "Numero de iteraciones de GMRES: 216\n",
      "Tiempo total en GMRES: 150.08 [s]\n",
      "Energia de Solvatacion en BEM/FEM/BEM: -67.977588 [kCal/mol]\n",
      "Tiempo total: 213.36 [s]\n",
      "Caso BEM/FEM/BEM(Variable_Lineal)\n",
      "Found 2 meshes\n",
      "FEM dofs: 41428\n",
      "BEM1 dofs: 18424\n",
      "BEM2 dofs: 26526\n",
      "Tra1 dofs: 9214\n",
      "Tra2 dofs: 13265\n",
      "TraL dofs: 22479\n"
     ]
    },
    {
     "name": "stderr",
     "output_type": "stream",
     "text": [
      "/home/mauricioguerrero/Software/miniconda3/envs/bempp_prod/lib/python3.8/site-packages/scipy/sparse/linalg/dsolve/linsolve.py:318: SparseEfficiencyWarning: splu requires CSC matrix format\n",
      "  warn('splu requires CSC matrix format', SparseEfficiencyWarning)\n"
     ]
    },
    {
     "name": "stdout",
     "output_type": "stream",
     "text": [
      "Numero de iteraciones de GMRES: 280\n",
      "Tiempo total en GMRES: 170.91 [s]\n",
      "Energia de Solvatacion en BEM/FEM/BEM: -71.350189 [kCal/mol]\n",
      "Tiempo total: 572.41 [s]\n",
      "Caso BEM/FEM/BEM(Variable_por_Radio)\n",
      "Found 2 meshes\n",
      "FEM dofs: 41428\n",
      "BEM1 dofs: 18424\n",
      "BEM2 dofs: 26526\n",
      "Tra1 dofs: 9214\n",
      "Tra2 dofs: 13265\n",
      "TraL dofs: 22479\n"
     ]
    },
    {
     "name": "stderr",
     "output_type": "stream",
     "text": [
      "/home/mauricioguerrero/Software/miniconda3/envs/bempp_prod/lib/python3.8/site-packages/scipy/sparse/linalg/dsolve/linsolve.py:318: SparseEfficiencyWarning: splu requires CSC matrix format\n",
      "  warn('splu requires CSC matrix format', SparseEfficiencyWarning)\n"
     ]
    },
    {
     "name": "stdout",
     "output_type": "stream",
     "text": [
      "Numero de iteraciones de GMRES: 218\n",
      "Tiempo total en GMRES: 145.93 [s]\n",
      "Energia de Solvatacion en BEM/FEM/BEM: -67.812830 [kCal/mol]\n",
      "Tiempo total: 215.56 [s]\n",
      "Tiempo total por grupo: 3002.09 [s]\n",
      "Tiempo total del programa: 4323.15 [s]\n"
     ]
    }
   ],
   "source": [
    "start = time.time()\n",
    "f1=open(\"Prueba.txt\",\"w\")\n",
    "for i in range(len(LT)):\n",
    "    start1 = time.time() \n",
    "    file =LT[i] \n",
    "    print(\"%%%%%%%%%%%%%\")\n",
    "    print(i,file)     \n",
    "    \n",
    "    PQR = 'PQR/Sphere5Q3.pqr'               #'PQR/'+file0+'.pqr' #                            \n",
    "    MS1 = 'Mallas_S/Sphere5R'+file+'.off'   #'Mallas_S/'+file0+'R'+file+'.off' #              \n",
    "    MS2 = 'Mallas_S/Sphere6R'+file+'.off'   #'Mallas_S/'+file0+'SR'+file+'.off'#            \n",
    "    MV =  'Mallas_V/outputTetMeshSphere5R'+file+'.xml'  #'Mallas_V/outputTetMesh'+file0+'IR'+file+'.xml' # \n",
    "    MVG = 'Mallas_V/outputTetMeshSphere56R'+file+'.xml' #'Mallas_V/outputTetMesh'+file0+'R'+file+'.xml' #\n",
    "\n",
    "    Sol1,T1,T1G,I1 = Caso_BEMBEM(PQR,MS1,es,em,k,Tol,'NR',SF=True,Asb='dn')\n",
    "    f1.write(str(Sol1)+\" \"+str(T1)+\" \"+str(T1G)+\" \"+str(I1)+\" \"+str(LT[i])+\" BEMBEMNR \\n\") \n",
    "    \n",
    "    Sol2,T2,T2G,I2 = Caso_BEMBEM(PQR,MS1,es,em,k,Tol,'R',SF=True,Asb='dn')  \n",
    "    f1.write(str(Sol2)+\" \"+str(T2)+\" \"+str(T2G)+\" \"+str(I2)+\" \"+str(LT[i])+\" BEMBEMR \\n\") \n",
    "    \n",
    "    Sol3,T3,T3G,I3 = Caso_BEMBEM(PQR,MS1,es,em,k,Tol,'3T',SF=True,Asb='dn')   \n",
    "    f1.write(str(Sol3)+\" \"+str(T3)+\" \"+str(T3G)+\" \"+str(I3)+\" \"+str(LT[i])+\" BEMBEM3T \\n\") \n",
    "    \n",
    "    Sol4,T4,T4G,I4 = Caso_FEMBEM(PQR,MV,es,em,k,Tol,'NR',Asb='dn')\n",
    "    f1.write(str(Sol4)+\" \"+str(T4)+\" \"+str(T4G)+\" \"+str(I4)+\" \"+str(LT[i])+\" FEMBEMNR \\n\") \n",
    "    \n",
    "    Sol5,T5,T5G,I5 = Caso_FEMBEM(PQR,MV,es,em,k,Tol,'R',Asb='dn')\n",
    "    f1.write(str(Sol5)+\" \"+str(T5)+\" \"+str(T5G)+\" \"+str(I5)+\" \"+str(LT[i])+\" FEMBEMR \\n\") \n",
    "    \n",
    "    Sol6,T6,T6G,I6 = Caso_FEMBEM(PQR,MV,es,em,k,Tol,'3T',Asb='dn')\n",
    "    f1.write(str(Sol6)+\" \"+str(T6)+\" \"+str(T6G)+\" \"+str(I6)+\" \"+str(LT[i])+\" FEMBEM3T \\n\")\n",
    "    \n",
    "    Sol7,T7,T7G,I7 = Caso_BEMBEMBEM(PQR,MS1,MS2,es,ei1,em,k,Tol,SF=True,Asb='dn')  \n",
    "    f1.write(str(Sol7)+\" \"+str(T7)+\" \"+str(T7G)+\" \"+str(I7)+\" \"+str(LT[i])+\" BEMBEMBEM80 \\n\")\n",
    "    \n",
    "    Sol8,T8,T8G,I8 = Caso_BEMBEMBEM(PQR,MS1,MS2,es,ei2,em,k,Tol,SF=True,Asb='dn')  \n",
    "    f1.write(str(Sol8)+\" \"+str(T8)+\" \"+str(T8G)+\" \"+str(I8)+\" \"+str(LT[i])+\" BEMBEMBEM10 \\n\")\n",
    "    \n",
    "    Sol9,T9,T9G,I9 = Caso_BEMFEMBEM(PQR,MVG,es,ei1,em,k,Tol,'C' ,Asb='dn')  \n",
    "    f1.write(str(Sol9)+\" \"+str(T9)+\" \"+str(T9G)+\" \"+str(I9)+\" \"+str(LT[i])+\" BEMFEMBEMC80 \\n\")\n",
    "    \n",
    "    Sol10,T10,T10G,I10 = Caso_BEMFEMBEM(PQR,MVG,es,ei2,em,k,Tol,'C',Asb='dn')  \n",
    "    f1.write(str(Sol10)+\" \"+str(T10)+\" \"+str(T10G)+\" \"+str(I10)+\" \"+str(LT[i])+\" BEMFEMBEMC10 \\n\")\n",
    "    \n",
    "    Sol11,T11,T11G,I11 = Caso_BEMFEMBEM(PQR,MVG,es,ei2,em,k,Tol,'VL',Asb='dn')  \n",
    "    f1.write(str(Sol11)+\" \"+str(T11)+\" \"+str(T11G)+\" \"+str(I11)+\" \"+str(LT[i])+\" BEMFEMBEMVL \\n\")\n",
    "    \n",
    "    Sol12,T12,T12G,I12 = Caso_BEMFEMBEM(PQR,MVG,es,ei2,em,k,Tol,'VR',Asb='dn')  \n",
    "    f1.write(str(Sol12)+\" \"+str(T12)+\" \"+str(T12G)+\" \"+str(I12)+\" \"+str(LT[i])+\" BEMFEMBEMVR \\n\")\n",
    "        \n",
    "    end1 = time.time()\n",
    "    curr_time1 = (end1 - start1)   \n",
    "    print(\"Tiempo total por grupo: {:5.2f} [s]\".format(curr_time1))\n",
    "      \n",
    "f1.close()\n",
    "end = time.time()\n",
    "curr_time = (end - start)   \n",
    "print(\"Tiempo total del programa: {:5.2f} [s]\".format(curr_time))"
   ]
  },
  {
   "cell_type": "code",
   "execution_count": null,
   "metadata": {},
   "outputs": [],
   "source": []
  }
 ],
 "metadata": {
  "kernelspec": {
   "display_name": "Python 3",
   "language": "python",
   "name": "python3"
  },
  "language_info": {
   "codemirror_mode": {
    "name": "ipython",
    "version": 3
   },
   "file_extension": ".py",
   "mimetype": "text/x-python",
   "name": "python",
   "nbconvert_exporter": "python",
   "pygments_lexer": "ipython3",
   "version": "3.8.6"
  }
 },
 "nbformat": 4,
 "nbformat_minor": 4
}
