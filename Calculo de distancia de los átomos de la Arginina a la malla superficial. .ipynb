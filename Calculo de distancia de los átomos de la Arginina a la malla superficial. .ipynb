{
 "cells": [
  {
   "cell_type": "code",
   "execution_count": 1,
   "metadata": {},
   "outputs": [],
   "source": [
    "#Inportar Programas#\n",
    "import numpy as np \n",
    "from readoff import *\n",
    "from readpqr import *"
   ]
  },
  {
   "cell_type": "code",
   "execution_count": 2,
   "metadata": {},
   "outputs": [
    {
     "name": "stdout",
     "output_type": "stream",
     "text": [
      "1 1.840\n",
      "2 1.563\n",
      "3 1.701\n",
      "4 0.705\n",
      "5 1.894\n",
      "6 0.899\n",
      "7 0.903\n",
      "8 0.901\n",
      "9 1.894\n",
      "10 1.213\n",
      "11 1.213\n",
      "12 1.213\n",
      "13 1.840\n",
      "14 1.563\n",
      "15 1.702\n",
      "16 1.005\n",
      "17 2.092\n",
      "18 1.213\n",
      "19 2.001\n",
      "20 1.213\n",
      "21 1.214\n",
      "22 2.001\n",
      "23 1.213\n",
      "24 1.213\n",
      "25 2.001\n",
      "26 1.213\n",
      "27 1.213\n",
      "28 1.701\n",
      "29 0.686\n",
      "30 1.840\n",
      "31 1.701\n",
      "32 0.798\n",
      "33 0.696\n",
      "34 1.701\n",
      "35 0.682\n",
      "36 0.683\n"
     ]
    }
   ],
   "source": [
    "PC,Q,R = readpqr('PQR/Newarg.pqr')\n",
    "V1,F1 = read_off('Mallas_S/NewargR3.off') #Eleccion del nombre de la malla en formato \"off\"\n",
    "for i in range(len(PC)):\n",
    "    da = np.min(np.linalg.norm(PC[i] - V1, axis=1))\n",
    "    print(i+1, \"{:5.3f}\".format(da)) "
   ]
  },
  {
   "cell_type": "code",
   "execution_count": null,
   "metadata": {},
   "outputs": [],
   "source": []
  }
 ],
 "metadata": {
  "kernelspec": {
   "display_name": "Python 3",
   "language": "python",
   "name": "python3"
  },
  "language_info": {
   "codemirror_mode": {
    "name": "ipython",
    "version": 3
   },
   "file_extension": ".py",
   "mimetype": "text/x-python",
   "name": "python",
   "nbconvert_exporter": "python",
   "pygments_lexer": "ipython3",
   "version": "3.8.6"
  }
 },
 "nbformat": 4,
 "nbformat_minor": 4
}
