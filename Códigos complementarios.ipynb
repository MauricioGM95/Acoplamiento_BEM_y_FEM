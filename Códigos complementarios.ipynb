{
 "cells": [
  {
   "cell_type": "code",
   "execution_count": null,
   "metadata": {},
   "outputs": [],
   "source": [
    "import numpy as np \n",
    "from Codigos_Adicionales import *\n",
    "from Codigos_BEM_y_FEM_Generalizadas import *"
   ]
  },
  {
   "cell_type": "code",
   "execution_count": null,
   "metadata": {},
   "outputs": [],
   "source": [
    "#Codigo para generar mallas superficiales\n",
    "file ='Sphere5Q3' #nombre del archivo en formato de texto del pqr\n",
    "de = 1            #densidad(msms) o longitud(nanoshaper)\n",
    "f = 'm'           #metodo para crear la malla 'm'(msms) o 'n'(nanoshaper)\n",
    "FE = 'PQR/'       #Carpeta donde esta el pqr\n",
    "FS = 'Mallas_S/'  #Carpeta para guardar la malla\n",
    "V1,E1 = MallaSuperficial(file,de,f,FE,FS)\n",
    "print(V1)  #Numero de vertices de la malla\n",
    "print(E1)  #Numero de elementos de la malla"
   ]
  },
  {
   "cell_type": "code",
   "execution_count": null,
   "metadata": {},
   "outputs": [],
   "source": [
    "#Creacion de pqr de la moleculas de Mobley\n",
    "#Lectura del archivo de texto\n",
    "LG =[]\n",
    "with open(\"Lista_Moleculas_Pequeñas.txt\",\"r\") as f:\n",
    "    lines = f.readlines()\n",
    "for line in lines:\n",
    "    line = line.split()\n",
    "    LG.append(line[0])\n",
    "\n",
    "for i in range(len(LG)):\n",
    "    file = LG[i]   # file: nombre del archivo en formato de texto\n",
    "    FP = 'Moleculas_Pequeñas/prmcrd/'           #direccion donde se encuentra la carpeta prmcrd. \n",
    "    FC = 'Moleculas_Pequeñas/charged_mol2files/'#direccion donde se encuentra la carpeta charged_mol2files. \n",
    "    FS = 'Moleculas_Pequeñas/PQR/'              #direccion donde se guardara el pqr. \n",
    "    d = 0 #distacia adicional para el radio para crear la malla con capa de exclusion\n",
    "    _ = PQR_Moleculas_Pequeñas(file,d,FP,FC,FS)"
   ]
  },
  {
   "cell_type": "code",
   "execution_count": null,
   "metadata": {},
   "outputs": [],
   "source": [
    "#Modificacion del pqr de la moleculas del 1LYZ y del 1BPI que viene de PDB2PQR     \n",
    "file = '1bpi' #nombre del archivo en formato de texto\n",
    "FE ='Moleculas_Grandes/PQR/'      #direccion donde se encuentra el pqr. \n",
    "FS ='Moleculas_Grandes/Mallas_S/' #direccion donde se guarda el pqr modificado.    \n",
    "d = 0  #distacia adicional para el radio para crear la malla con capa de exclusion  \n",
    "_ = NuevoPQR(file,d,FE,FS) "
   ]
  },
  {
   "cell_type": "code",
   "execution_count": null,
   "metadata": {},
   "outputs": [],
   "source": [
    "#Creacion del archivo prmtop del 1BBZ, L1BBZ, 1SE0 y L1SE0\n",
    "import parmed.amber\n",
    "from pathlib import Path\n",
    "top = parmed.load_file(\"Moleculas_de_Union/top/L1BBZ.top\")\n",
    "top.save('Moleculas_de_Union/top/L1BBZ.prmtop', format='amber')"
   ]
  },
  {
   "cell_type": "code",
   "execution_count": null,
   "metadata": {},
   "outputs": [],
   "source": [
    "# Caso para las moleculas de grandes como el 1SE0 y 1BBZ (ligando, proteina y conjunto)\n",
    "file = '1BBZ-L' #nombre del archivo en formato de texto\n",
    "FE = 'Moleculas_de_Union/top/' #direccion donde se encuentra el archivo prmtop y el pdb. \n",
    "FS = 'Moleculas_de_Union/PQR/' #direccion donde se guarda el pqr modificado.   \n",
    "d = 0  #distacia adicional para el radio para crear la malla con capa de exclusion  \n",
    "_ = PQR_Moleculas_de_Union(file,d,FP,FE,FS)"
   ]
  },
  {
   "cell_type": "code",
   "execution_count": null,
   "metadata": {},
   "outputs": [],
   "source": [
    "#Caso energia de coulomb\n",
    "F0='Moleculas_de_Union/PQR/L1BBZ.pqr'\n",
    "EC=ECoulomb(F0,em=1.0)\n",
    "print(EC)"
   ]
  },
  {
   "cell_type": "code",
   "execution_count": null,
   "metadata": {},
   "outputs": [],
   "source": [
    "#Caso extra para comparar\n",
    "from an_solution import an_P\n",
    "Q=np.array([1.0,1.0,1.0])\n",
    "k = 0.125\n",
    "es=80  #[-]\n",
    "em=4.   #[-]\n",
    "PC = np.array([[0.00001,0.0,0.0],[0.0,0.5,0.0],[0.0,-0.5,0.0]])\n",
    "G2 = an_P(Q, PC, em, es, 5, k, 6 , 10)\n",
    "print(G2)"
   ]
  },
  {
   "cell_type": "code",
   "execution_count": null,
   "metadata": {},
   "outputs": [],
   "source": [
    "#Calculo de la constante de conveccion\n",
    "qe = 1.60217646e-19\n",
    "Na = 6.0221415e23\n",
    "E0 = 8.854187818e-12\n",
    "cal2J = 4.184\n",
    "SER = qe**2*Na*10**10/(E0*cal2J*4*np.pi*1000)\n",
    "print(SER)"
   ]
  },
  {
   "cell_type": "code",
   "execution_count": null,
   "metadata": {},
   "outputs": [],
   "source": []
  }
 ],
 "metadata": {
  "kernelspec": {
   "display_name": "Python 3",
   "language": "python",
   "name": "python3"
  },
  "language_info": {
   "codemirror_mode": {
    "name": "ipython",
    "version": 3
   },
   "file_extension": ".py",
   "mimetype": "text/x-python",
   "name": "python",
   "nbconvert_exporter": "python",
   "pygments_lexer": "ipython3",
   "version": "3.8.6"
  }
 },
 "nbformat": 4,
 "nbformat_minor": 4
}
