{
 "cells": [
  {
   "cell_type": "code",
   "execution_count": 1,
   "metadata": {},
   "outputs": [
    {
     "name": "stdout",
     "output_type": "stream",
     "text": [
      "PyGAMer version: 2.0.5\n"
     ]
    }
   ],
   "source": [
    "#El objetivo principal de este codigo es generar el cascaron intermedio de FEM \n",
    "#a partir de dos mallas superficiales interior y exterior de archivo off\n",
    "\n",
    "# Importacion de librerias\n",
    "import pygamer\n",
    "print(\"PyGAMer version:\", pygamer.__version__())\n",
    "import numpy as np\n",
    "import threevis\n",
    "import trimesh"
   ]
  },
  {
   "cell_type": "code",
   "execution_count": 2,
   "metadata": {},
   "outputs": [],
   "source": [
    "# Llama a las mallas de archivos off para generar el cascaron\n",
    "mesh1 = pygamer.readOFF(\"Sphere5R3.off\") #Malla interior\n",
    "mesh2 = pygamer.readOFF(\"Sphere6R3.off\") #Malla exterior\n",
    "# Corrige el vector normal de las mallas\n",
    "mesh1.correctNormals()\n",
    "mesh2.correctNormals()"
   ]
  },
  {
   "cell_type": "code",
   "execution_count": 3,
   "metadata": {},
   "outputs": [],
   "source": [
    "#Seleccion un numero como etiqueta para referenciar las dos mallas para su visualizacion\n",
    "for faceID in mesh1.faceIDs:\n",
    "    faceID.data().marker = 23\n",
    "for faceID in mesh2.faceIDs:\n",
    "    faceID.data().marker = 50\n",
    "\n",
    "#Si se desea una malla volumetrica afuera de la superficie de la figura, colocar True\n",
    "#Si se desea una malla volumetrica dentro de la superficie de la figura, colocar False\n",
    "# Informacion de la malla 1\n",
    "gInfo = mesh1.getRoot()\n",
    "gInfo.ishole = True \n",
    "# Informacion de la malla 2\n",
    "gInfo = mesh2.getRoot()\n",
    "gInfo.ishole = False"
   ]
  },
  {
   "cell_type": "code",
   "execution_count": 4,
   "metadata": {},
   "outputs": [
    {
     "data": {
      "application/vnd.jupyter.widget-view+json": {
       "model_id": "bc964cd54c6b4bed84defd99731356c5",
       "version_major": 2,
       "version_minor": 0
      },
      "text/plain": [
       "Renderer(background='#dddddd', camera=PerspectiveCamera(aspect=1.3333333333333333, children=(DirectionalLight(…"
      ]
     },
     "metadata": {},
     "output_type": "display_data"
    }
   ],
   "source": [
    "# Visualizacion de la malla interior y exterior\n",
    "protverts, _, protfaces = mesh1.to_ndarray()\n",
    "boxverts, boxedges, _ = mesh2.to_ndarray()\n",
    "ctx = threevis.Context(width=640, height=480)\n",
    "colors = np.zeros((len(protfaces), 3))\n",
    "colors[:,0] = np.ones(len(protfaces))\n",
    "ctx.draw_faces(protverts, protfaces, colors=threevis.FaceAttribute(colors))\n",
    "ctx.draw_edges(boxverts, boxedges)\n",
    "ctx.display()"
   ]
  },
  {
   "cell_type": "code",
   "execution_count": 5,
   "metadata": {},
   "outputs": [
    {
     "name": "stdout",
     "output_type": "stream",
     "text": [
      "Number of vertices: 5656\n",
      "Number of Faces: 11304\n",
      "Number of Regions: 1\n",
      "Number of Holes: 1\n",
      "Region point: Tensor({0}:4.62641; {1}:0.169336; {2}:0.0978065)\n",
      "Region point: Tensor({0}:5.62372; {1}:0.173668; {2}:0.100343)\n"
     ]
    }
   ],
   "source": [
    "# Construye una lista de mallas para la funcion TetGen\n",
    "meshes = [mesh1,mesh2]\n",
    "#Tetrahedriza la lista de mallas para generar el casacaron con TetGen.\n",
    "tetmesh = pygamer.makeTetMesh(meshes, \"-pq1.1aYAO2/3\")\n",
    "#https://custem.readthedocs.io/en/latest/_modules/custEM/meshgen/meshgen_tools.html #(Informacion de respaldo)"
   ]
  },
  {
   "cell_type": "code",
   "execution_count": 6,
   "metadata": {},
   "outputs": [
    {
     "name": "stdout",
     "output_type": "stream",
     "text": [
      "The mesh1 currently has 2334 vertices, 6996 edges, and 4664 faces.\n",
      "The mesh2 currently has 3322 vertices, 9960 edges, and 6640 faces.\n",
      "The tetmesh currently has 7614 vertices, 43564 edges, and 66252 faces.\n"
     ]
    }
   ],
   "source": [
    "#Informacion de las mallas y el cascaron\n",
    "print(F\"The mesh1 currently has {mesh1.nVertices} vertices, \\\n",
    "{mesh1.nEdges} edges, and {mesh1.nFaces} faces.\")\n",
    "print(F\"The mesh2 currently has {mesh2.nVertices} vertices, \\\n",
    "{mesh2.nEdges} edges, and {mesh2.nFaces} faces.\")\n",
    "print(F\"The tetmesh currently has {tetmesh.nVertices} vertices, \\\n",
    "{tetmesh.nEdges} edges, and {tetmesh.nFaces} faces.\")"
   ]
  },
  {
   "cell_type": "code",
   "execution_count": 7,
   "metadata": {},
   "outputs": [],
   "source": [
    "#Elige el nombre y genera el archivo xml de la malla volumetrica(dentro o afuera) de la proteina\n",
    "#pygamer.writeDolfin('outputTetMeshSphere56R3.xml', tetmesh)"
   ]
  },
  {
   "cell_type": "code",
   "execution_count": 8,
   "metadata": {},
   "outputs": [],
   "source": [
    "#Se realiza un corte en el cascaron antes de hacer la visualizacion\n",
    "toRemove = []\n",
    "for vertexID in tetmesh.vertexIDs:\n",
    "    if vertexID.data()[1] > 0:\n",
    "        toRemove.append(vertexID)\n",
    "for v in toRemove:\n",
    "    tetmesh.removeVertex(v)\n",
    "    \n",
    "surfmesh = tetmesh.extractSurface()\n",
    "surfmesh.correctNormals()\n",
    "v, e, f = surfmesh.to_ndarray()"
   ]
  },
  {
   "cell_type": "code",
   "execution_count": 9,
   "metadata": {},
   "outputs": [
    {
     "data": {
      "application/vnd.jupyter.widget-view+json": {
       "model_id": "c994058eab194fa7b66c5f3984478407",
       "version_major": 2,
       "version_minor": 0
      },
      "text/plain": [
       "Renderer(background='#dddddd', camera=PerspectiveCamera(aspect=1.3333333333333333, children=(DirectionalLight(…"
      ]
     },
     "metadata": {},
     "output_type": "display_data"
    }
   ],
   "source": [
    "# Visualizacion del cascaron\n",
    "ctx = threevis.Context(width=640, height=480)\n",
    "\n",
    "rgb = np.ones((len(f), 3))\n",
    "\n",
    "for i, face in enumerate(surfmesh.faceIDs):\n",
    "    if face.data().marker == 23:\n",
    "        rgb[i,0] = 1\n",
    "        rgb[i,1] = 0\n",
    "        rgb[i,2] = 0\n",
    "    elif face.data().marker == 50:\n",
    "        rgb[i,0] = 0\n",
    "        rgb[i,1] = 0\n",
    "        rgb[i,2] = 1\n",
    "\n",
    "colors = threevis.FaceAttribute(rgb)\n",
    "\n",
    "ctx.draw_faces(v, f, colors=colors)\n",
    "ctx.draw_edges(v, e)\n",
    "ctx.display()"
   ]
  },
  {
   "cell_type": "code",
   "execution_count": null,
   "metadata": {},
   "outputs": [],
   "source": []
  }
 ],
 "metadata": {
  "kernelspec": {
   "display_name": "Python 3",
   "language": "python",
   "name": "python3"
  },
  "language_info": {
   "codemirror_mode": {
    "name": "ipython",
    "version": 3
   },
   "file_extension": ".py",
   "mimetype": "text/x-python",
   "name": "python",
   "nbconvert_exporter": "python",
   "pygments_lexer": "ipython3",
   "version": "3.8.6"
  }
 },
 "nbformat": 4,
 "nbformat_minor": 2
}
