{
 "cells": [
  {
   "cell_type": "code",
   "execution_count": 1,
   "metadata": {},
   "outputs": [],
   "source": [
    "#Importacion de librerias\n",
    "import bempp.api\n",
    "import numpy as np \n",
    "import time\n",
    "from readoff import *\n",
    "from readpqr import *\n",
    "start = time.time()"
   ]
  },
  {
   "cell_type": "code",
   "execution_count": 2,
   "metadata": {},
   "outputs": [],
   "source": [
    "#Datos Principales. \n",
    "em = 4.     #[-] Permitividad electrica interior.\n",
    "ei = 10.    #[-] Permitividad electrica de la capa intermedia.\n",
    "es = 80.    #[-] Permitividad electrica exterior.\n",
    "k = 0.125   #[1/A] Inverso de la longitud de Debey-Huckel del fluido.\n",
    "\n",
    "#Eleccion de resolver la ecuacion matricial en BEM/BEM\n",
    "SF = True  #Strong form: True utiliza el precondicionador Mass Matrix. False no se utiliza ningun precondicionador.\n",
    "\n",
    "#Ensablaje de los operadores de frontera: #'fmm' para moleculas con un gran mayor numero de vertices.\n",
    "#'default_nonlocal' para moleculas con un pequeño numero de vertices.\n",
    "Assemble = 'default_nonlocal' "
   ]
  },
  {
   "cell_type": "code",
   "execution_count": 3,
   "metadata": {},
   "outputs": [],
   "source": [
    "#Datos de la posicion en el espacio, carga y radios de los atomos de la molecula.\n",
    "PC,Q,R = readpqr('PQR/Sphere5Q3.pqr')  #Eleccion del \"pqr\" de la molecula"
   ]
  },
  {
   "cell_type": "code",
   "execution_count": 4,
   "metadata": {},
   "outputs": [
    {
     "name": "stdout",
     "output_type": "stream",
     "text": [
      "Found 1 meshes\n"
     ]
    }
   ],
   "source": [
    "#Generar las malla superficiales de la molecula\n",
    "#En caso que la malla tenga huecos pequeños, con trimesh se obtiene la informacion de la malla original sin los huecos.\n",
    "import trimesh\n",
    "V1,F1 = read_off('Mallas_S/Sphere5R0.off') #Eleccion del nombre de la malla inferior en formato \"off\"\n",
    "meshSP = trimesh.Trimesh(vertices = V1, faces= F1) \n",
    "mesh_split = meshSP.split()\n",
    "print(\"Found %i meshes\"%len(mesh_split))\n",
    "\n",
    "vertices_split1 = mesh_split[0].vertices \n",
    "faces_split1 = mesh_split[0].faces   \n",
    "grid1 = bempp.api.grid.grid.Grid(vertices_split1.transpose(), faces_split1.transpose()) #Creacion de la malla superficial interior\n",
    "\n",
    "verts2,faces2 =read_off('Mallas_S/Sphere6R0.off') #Eleccion del nombre de la malla superior en formato \"off\"\n",
    "grid2 = bempp.api.grid.grid.Grid(verts2.transpose(), faces2.transpose()) #Creacion de la malla superficial exterior"
   ]
  },
  {
   "cell_type": "code",
   "execution_count": 5,
   "metadata": {},
   "outputs": [
    {
     "name": "stdout",
     "output_type": "stream",
     "text": [
      "DS1 dofs: 290\n",
      "NS1 dofs: 576\n",
      "DS2 dofs: 417\n",
      "NS2 dofs: 830\n"
     ]
    }
   ],
   "source": [
    "#Generar espacios de funcionales del potencial y su derivada para el dominio Ωm y Ωi\n",
    "dirichl_space1 = bempp.api.function_space(grid1, \"P\", 1)  #Potencial electrostatico en la interfaz interior.\n",
    "neumann_space1 = bempp.api.function_space(grid1, \"DP\", 0) #Derivada del potencial electrostatico en la interfaz interior.\n",
    "dirichl_space2 = bempp.api.function_space(grid2, \"P\", 1)  #Potencial electrostatico en la interfaz superior.\n",
    "neumann_space2 = bempp.api.function_space(grid2, \"DP\", 0) #Derivada del potencial electrostatico en la interfaz superior.\n",
    "\n",
    "print(\"DS1 dofs: {0}\".format(dirichl_space1.global_dof_count))\n",
    "print(\"NS1 dofs: {0}\".format(neumann_space1.global_dof_count))\n",
    "print(\"DS2 dofs: {0}\".format(dirichl_space2.global_dof_count))\n",
    "print(\"NS2 dofs: {0}\".format(neumann_space2.global_dof_count))"
   ]
  },
  {
   "cell_type": "code",
   "execution_count": 6,
   "metadata": {},
   "outputs": [],
   "source": [
    "#Generar los operadores de frontera\n",
    "bempp.api.GLOBAL_PARAMETERS.fmm.expansion_order = 5\n",
    "#Operadores de identidad\n",
    "I1d = bempp.api.operators.boundary.sparse.identity(dirichl_space1, dirichl_space1, dirichl_space1) # 1\n",
    "I1n = bempp.api.operators.boundary.sparse.identity(dirichl_space1, neumann_space1, neumann_space1) # 1\n",
    "I2d = bempp.api.operators.boundary.sparse.identity(dirichl_space2, dirichl_space2, dirichl_space2) # 1\n",
    "I2n = bempp.api.operators.boundary.sparse.identity(dirichl_space2, neumann_space2, neumann_space2) # 1\n",
    "\n",
    "#Dominio del soluto Ωm\n",
    "K111 = bempp.api.operators.boundary.laplace.double_layer(dirichl_space1, dirichl_space1, dirichl_space1, assembler=Assemble) #K\n",
    "V111 = bempp.api.operators.boundary.laplace.single_layer(neumann_space1, dirichl_space1, dirichl_space1, assembler=Assemble) #V\n",
    "Y121 = bempp.api.ZeroBoundaryOperator(dirichl_space2, dirichl_space1, dirichl_space1) #0\n",
    "Z121 = bempp.api.ZeroBoundaryOperator(neumann_space2, dirichl_space1, dirichl_space1) #0\n",
    "\n",
    "#Dominio de la capa intermedia Ωi en la interfaz interior\n",
    "K211 = bempp.api.operators.boundary.laplace.double_layer(dirichl_space1, neumann_space1, neumann_space1, assembler=Assemble) #K\n",
    "V211 = bempp.api.operators.boundary.laplace.single_layer(neumann_space1, neumann_space1, neumann_space1, assembler=Assemble) #V\n",
    "K221 = bempp.api.operators.boundary.laplace.double_layer(dirichl_space2, neumann_space1, neumann_space1, assembler=Assemble) #K\n",
    "V221 = bempp.api.operators.boundary.laplace.single_layer(neumann_space2, neumann_space1, neumann_space1, assembler=Assemble) #V\n",
    "\n",
    "#Dominio de la capa intermedia Ωi en la interfaz superior\n",
    "K212 = bempp.api.operators.boundary.laplace.double_layer(dirichl_space1, dirichl_space2, dirichl_space2, assembler=Assemble) #K\n",
    "V212 = bempp.api.operators.boundary.laplace.single_layer(neumann_space1, dirichl_space2, dirichl_space2, assembler=Assemble) #V\n",
    "K222 = bempp.api.operators.boundary.laplace.double_layer(dirichl_space2, dirichl_space2, dirichl_space2, assembler=Assemble) #K\n",
    "V222 = bempp.api.operators.boundary.laplace.single_layer(neumann_space2, dirichl_space2, dirichl_space2, assembler=Assemble) #V\n",
    "\n",
    "#Dominio del solvente Ωs\n",
    "Y312 = bempp.api.ZeroBoundaryOperator(dirichl_space1, neumann_space2, neumann_space2) #0\n",
    "Z312 = bempp.api.ZeroBoundaryOperator(neumann_space1, neumann_space2, neumann_space2) #0\n",
    "if k==0:\n",
    "    K322 = bempp.api.operators.boundary.laplace.double_layer(dirichl_space2, neumann_space2, neumann_space2, assembler=Assemble) #K\n",
    "    V322 = bempp.api.operators.boundary.laplace.single_layer(neumann_space2, neumann_space2, neumann_space2, assembler=Assemble) #V\n",
    "else:\n",
    "    K322 = bempp.api.operators.boundary.modified_helmholtz.double_layer(dirichl_space2, neumann_space2, neumann_space2, k, assembler=Assemble) #K\n",
    "    V322 = bempp.api.operators.boundary.modified_helmholtz.single_layer(neumann_space2, neumann_space2, neumann_space2, k, assembler=Assemble) #V"
   ]
  },
  {
   "cell_type": "code",
   "execution_count": 7,
   "metadata": {},
   "outputs": [
    {
     "name": "stderr",
     "output_type": "stream",
     "text": [
      "/home/mauricioguerrero/Software/miniconda3/envs/bempp_prod/lib/python3.8/site-packages/scipy/sparse/linalg/dsolve/linsolve.py:318: SparseEfficiencyWarning: splu requires CSC matrix format\n",
      "  warn('splu requires CSC matrix format', SparseEfficiencyWarning)\n",
      "/home/mauricioguerrero/Software/miniconda3/envs/bempp_prod/lib/python3.8/site-packages/scipy/sparse/linalg/dsolve/linsolve.py:318: SparseEfficiencyWarning: splu requires CSC matrix format\n",
      "  warn('splu requires CSC matrix format', SparseEfficiencyWarning)\n"
     ]
    }
   ],
   "source": [
    "#Creacion de funcion del potencial de Coulomb  \n",
    "@bempp.api.complex_callable(jit=False)\n",
    "def U_c(x, n, domain_index, result):\n",
    "    global Q,PC,em\n",
    "    result[:] = (1 / (4.*np.pi*em))  * np.sum( Q / np.linalg.norm( x - PC, axis=1))\n",
    "Uc1 = bempp.api.GridFunction(dirichl_space1, fun=U_c)  \n",
    "\n",
    "#Construccion del vector derecho\n",
    "if SF==False:\n",
    "    # Rhs en Ωm\n",
    "    rhs_M = (Uc1).projections(dirichl_space1) # uc\n",
    "    # Rhs en Ωi en interfaz inferior\n",
    "    rhs_I1 = np.zeros(neumann_space1.global_dof_count) #0\n",
    "    # Rhs en Ωi en interfaz superior\n",
    "    rhs_I2 = np.zeros(dirichl_space2.global_dof_count) #0\n",
    "    # Rhs en Ωs\n",
    "    rhs_S = np.zeros(neumann_space2.global_dof_count) #0\n",
    "    # La combinacion del rhs\n",
    "    rhs = np.concatenate([rhs_M, rhs_I1, rhs_I2, rhs_S])\n",
    "else:\n",
    "    Uc2 = bempp.api.GridFunction(dirichl_space2, fun=U_c) \n",
    "    rhs = [I1d*Uc1, 0*I1n*Uc1, 0*I2d*Uc2, 0*I2n*Uc2] "
   ]
  },
  {
   "cell_type": "code",
   "execution_count": 8,
   "metadata": {},
   "outputs": [],
   "source": [
    "#Construccion matriz izquierda 4x4\n",
    "if SF==False:\n",
    "    blocks = [[None,None,None,None],[None,None,None,None],[None,None,None,None],[None,None,None,None]] \n",
    "    \n",
    "    #Posicion de la matriz 4x4\n",
    "    blocks[0][0] = (0.5*I1d+K111).weak_form()  # 0.5+K  \n",
    "    blocks[0][1] = -V111.weak_form()           # -V\n",
    "    blocks[0][2] = Y121.weak_form()            # 0\n",
    "    blocks[0][3] = Z121.weak_form()            # 0\n",
    "\n",
    "    blocks[1][0] = (0.5*I1n-K211).weak_form()  # 0.5-K\n",
    "    blocks[1][1] = (em/ei)*V211.weak_form()    # (em/ei)V\n",
    "    blocks[1][2] = K221.weak_form()            # K\n",
    "    blocks[1][3] = -V221.weak_form()           # -V\n",
    "\n",
    "    blocks[2][0] = -K212.weak_form()           # -K\n",
    "    blocks[2][1] = (em/ei)*V212.weak_form()    # (em/ei)V\n",
    "    blocks[2][2] = (0.5*I2d+K222).weak_form()  # 0.5+K\n",
    "    blocks[2][3] = -V222.weak_form()           # -V\n",
    "\n",
    "    blocks[3][0] = Y312.weak_form()            # 0\n",
    "    blocks[3][1] = Z312.weak_form()            # 0\n",
    "    blocks[3][2] = (0.5*I2n-K322).weak_form()  # 0.5-K\n",
    "    blocks[3][3] = (ei/es)*V322.weak_form()    # (ei/es)V\n",
    "    \n",
    "    blocked = bempp.api.assembly.blocked_operator.BlockedDiscreteOperator(np.array(blocks)) \n",
    "\n",
    "else:\n",
    "    blocks = bempp.api.BlockedOperator(4,4)  \n",
    "    \n",
    "    #Posicion de la matriz 4x4\n",
    "    blocks[0,0] = (0.5*I1d+K111) # 0.5+K  [0][0]\n",
    "    blocks[0,1] = -V111          # -V\n",
    "    blocks[0,2] = Y121           # 0\n",
    "    blocks[0,3] = Z121           # 0\n",
    "\n",
    "    blocks[1,0] = (0.5*I1n-K211) # 0.5-K\n",
    "    blocks[1,1] = (em/ei)*V211   # (em/ei)V\n",
    "    blocks[1,2] = K221           # K\n",
    "    blocks[1,3] = -V221          # -V\n",
    "\n",
    "    blocks[2,0] = -K212          # -K\n",
    "    blocks[2,1] = (em/ei)*V212   # (em/ei)V\n",
    "    blocks[2,2] = (0.5*I2d+K222) # 0.5+K\n",
    "    blocks[2,3] = -V222          # -V\n",
    "\n",
    "    blocks[3,0] = Y312           # 0\n",
    "    blocks[3,1] = Z312           # 0\n",
    "    blocks[3,2] = (0.5*I2n-K322) # 0.5-K\n",
    "    blocks[3,3] = (ei/es)*V322   # (ei/es)V"
   ]
  },
  {
   "cell_type": "code",
   "execution_count": 9,
   "metadata": {
    "scrolled": true
   },
   "outputs": [
    {
     "name": "stderr",
     "output_type": "stream",
     "text": [
      "/home/mauricioguerrero/Software/miniconda3/envs/bempp_prod/lib/python3.8/site-packages/scipy/sparse/linalg/dsolve/linsolve.py:318: SparseEfficiencyWarning: splu requires CSC matrix format\n",
      "  warn('splu requires CSC matrix format', SparseEfficiencyWarning)\n"
     ]
    },
    {
     "name": "stdout",
     "output_type": "stream",
     "text": [
      "Numero de iteraciones de GMRES: 136\n",
      "Tiempo total en GMRES:  3.91 [s]\n"
     ]
    }
   ],
   "source": [
    "#Se resuelve la solucion de la Ecuacion matricial Ax=B\n",
    "#Contador de iteraciones\n",
    "it_count = 0\n",
    "def count_iterations(x):\n",
    "    global it_count\n",
    "    it_count += 1\n",
    "    if (it_count / 10000) == (it_count // 10000):\n",
    "        print(it_count,x)\n",
    "\n",
    "# Solucion por GMRES\n",
    "from scipy.sparse.linalg import gmres\n",
    "if SF==False:\n",
    "    start1 = time.time()\n",
    "    soln, info = gmres(blocked, rhs, M=None, callback=count_iterations,tol=1e-6)  #Sin Precondicionador#\n",
    "    end1 = time.time() \n",
    "else:\n",
    "    #bempp.api.enable_console_logging('info')\n",
    "    start1 = time.time()\n",
    "    soln, info, res, it_count = bempp.api.linalg.gmres(blocks, rhs, return_residuals=True, return_iteration_count=True, use_strong_form=True,tol=1e-6)\n",
    "    end1 = time.time() \n",
    "    \n",
    "# Tiempo de resolver la ecuacion\n",
    "curr_time1 = (end1 - start1) \n",
    "print(\"Numero de iteraciones de GMRES: {0}\".format(it_count))\n",
    "print(\"Tiempo total en GMRES: {:5.2f} [s]\".format(curr_time1))    \n",
    "\n",
    "soln_u1 = soln[:dirichl_space1.global_dof_count]\n",
    "soln_du1 = soln[dirichl_space1.global_dof_count : dirichl_space1.global_dof_count + neumann_space1.global_dof_count]\n",
    "soln_u2 =  soln[dirichl_space1.global_dof_count + neumann_space1.global_dof_count : dirichl_space1.global_dof_count + neumann_space1.global_dof_count + dirichl_space2.global_dof_count]\n",
    "soln_du2 = soln[dirichl_space1.global_dof_count + neumann_space1.global_dof_count + dirichl_space2.global_dof_count:]"
   ]
  },
  {
   "cell_type": "code",
   "execution_count": 10,
   "metadata": {},
   "outputs": [],
   "source": [
    "#Calcula todo el dominio global del potencial a partir de la solucion de los borde de ambas interfaces.\n",
    "if SF==False:\n",
    "    # Solucion de la funcion con Dirichlet en el borde inferior\n",
    "    dirichlet_fun1 = bempp.api.GridFunction(dirichl_space1, coefficients=soln_u1)\n",
    "    # Solucion de la funcion con Neumann en el borde inferior\n",
    "    neumann_fun1 = bempp.api.GridFunction(neumann_space1, coefficients=soln_du1)\n",
    "    # Solucion de la funcion con Dirichlet en el borde superior\n",
    "    dirichlet_fun2 = bempp.api.GridFunction(dirichl_space2, coefficients=soln_u2)\n",
    "    # Solucion de la funcion con Neumann en el borde superior\n",
    "    neumann_fun2 = bempp.api.GridFunction(neumann_space2, coefficients=soln_du2)\n",
    "else:\n",
    "    dirichlet_fun1 = soln[0] \n",
    "    neumann_fun1 = soln[1] \n",
    "    dirichlet_fun2 = soln[2] \n",
    "    neumann_fun2 = soln[3]  "
   ]
  },
  {
   "cell_type": "code",
   "execution_count": 11,
   "metadata": {
    "scrolled": true
   },
   "outputs": [
    {
     "name": "stdout",
     "output_type": "stream",
     "text": [
      "-22.789137672964202\n",
      "-22.79055139643908\n",
      "-22.790112657348978\n",
      "Energia de Solvatacion: -68.369802 [kCal/mol]\n",
      "Tiempo total: 25.91 [s]\n"
     ]
    }
   ],
   "source": [
    "#Calculo del potencial en la posicion de los atomos de la molecula\n",
    "VF1 = bempp.api.operators.potential.laplace.single_layer(neumann_space1, np.transpose(PC)) \n",
    "KF1 = bempp.api.operators.potential.laplace.double_layer(dirichl_space1, np.transpose(PC))\n",
    "uF = VF1*neumann_fun1 - KF1*dirichlet_fun1 \n",
    "\n",
    "#Resultado de la energia de solvatacion por atomo\n",
    "for i in range(len(PC)):\n",
    "    Sum1 = (uF[0][i]).real*Q[i]\n",
    "    Ei = 0.5*4.*np.pi*332.064*(Sum1)\n",
    "    print(Ei)\n",
    "    \n",
    "#Resultado de la energia de solvatacion total    \n",
    "E_Solv = 0.5*4.*np.pi*332.064*np.sum(Q*uF).real \n",
    "print('Energia de Solvatacion: {:7.6f} [kCal/mol]'.format(E_Solv) )\n",
    "\n",
    "end = time.time()\n",
    "curr_time = (end - start)   \n",
    "print(\"Tiempo total: {:5.2f} [s]\".format(curr_time))"
   ]
  },
  {
   "cell_type": "code",
   "execution_count": null,
   "metadata": {},
   "outputs": [],
   "source": []
  }
 ],
 "metadata": {
  "kernelspec": {
   "display_name": "Python 3",
   "language": "python",
   "name": "python3"
  },
  "language_info": {
   "codemirror_mode": {
    "name": "ipython",
    "version": 3
   },
   "file_extension": ".py",
   "mimetype": "text/x-python",
   "name": "python",
   "nbconvert_exporter": "python",
   "pygments_lexer": "ipython3",
   "version": "3.8.6"
  }
 },
 "nbformat": 4,
 "nbformat_minor": 4
}
