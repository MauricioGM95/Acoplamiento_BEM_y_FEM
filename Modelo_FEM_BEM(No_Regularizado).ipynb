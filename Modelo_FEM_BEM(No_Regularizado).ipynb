{
 "cells": [
  {
   "cell_type": "code",
   "execution_count": 1,
   "metadata": {},
   "outputs": [],
   "source": [
    "#Importacion de librerias\n",
    "import bempp.api\n",
    "import dolfin\n",
    "import numpy as np \n",
    "import time\n",
    "from readpqr import *\n",
    "start = time.time()"
   ]
  },
  {
   "cell_type": "code",
   "execution_count": 2,
   "metadata": {},
   "outputs": [],
   "source": [
    "#Datos Principales. \n",
    "em = 4.     #[-] Permitividad electrica interior.\n",
    "es = 80.    #[-] Permitividad electrica exterior.\n",
    "k = 0.125   #[1/A] Inverso de la longitud de Debey-Huckel del fluido.\n",
    "\n",
    "#Ensablaje de los operadores de frontera: #'fmm' para moleculas con un gran mayor numero de vertices.\n",
    "#'default_nonlocal' para moleculas con un pequeño numero de vertices.\n",
    "Assemble = 'default_nonlocal' "
   ]
  },
  {
   "cell_type": "code",
   "execution_count": 3,
   "metadata": {},
   "outputs": [],
   "source": [
    "#Datos de la posicion en el espacio, carga y radios de los atomos de la molecula.\n",
    "PC,Q,R = readpqr('PQR/Sphere5Q3.pqr')  #Eleccion del \"pqr\" de la molecula"
   ]
  },
  {
   "cell_type": "code",
   "execution_count": 4,
   "metadata": {},
   "outputs": [],
   "source": [
    "#Generar la malla volumetrica de la molecula\n",
    "from dolfin import Mesh\n",
    "mesh = Mesh(\"Mallas_V/outputTetMeshSphere5R0.xml\") #Creacion de la malla volumetrica"
   ]
  },
  {
   "cell_type": "code",
   "execution_count": 5,
   "metadata": {},
   "outputs": [
    {
     "name": "stdout",
     "output_type": "stream",
     "text": [
      "FEM dofs: 367\n",
      "BEM dofs: 576\n",
      "TRA dofs: 290\n"
     ]
    }
   ],
   "source": [
    "#Generar espacios de funcionales del potencial en Fem y su derivada en Bem\n",
    "from bempp.api.external import fenics\n",
    "\n",
    "fenics_space = dolfin.FunctionSpace(mesh, \"CG\", 1) #Potencial electrostatico en la interfaz y dominio del soluto\n",
    "trace_space, trace_matrix = \\\n",
    "    fenics.fenics_to_bempp_trace_data(fenics_space) # Espacio de la traza para trabajar en BEM y FEM simultaneamente.\n",
    "bempp_space = bempp.api.function_space(trace_space.grid, \"DP\", 0) #Derivada del potencial electrostatico en la interfaz.\n",
    "\n",
    "print(\"FEM dofs: {0}\".format(mesh.num_vertices()))\n",
    "print(\"BEM dofs: {0}\".format(bempp_space.global_dof_count))\n",
    "print(\"TRA dofs: {0}\".format(trace_space.global_dof_count))"
   ]
  },
  {
   "cell_type": "code",
   "execution_count": 6,
   "metadata": {},
   "outputs": [],
   "source": [
    "#Generar operadores de frontera de Fem y Bem\n",
    "I1 = bempp.api.operators.boundary.sparse.identity(trace_space, bempp_space, bempp_space) #1\n",
    "mass = bempp.api.operators.boundary.sparse.identity(bempp_space, bempp_space, trace_space) #1\n",
    "if k==0:\n",
    "    K1 = bempp.api.operators.boundary.laplace.double_layer(trace_space, bempp_space, bempp_space, assembler=Assemble) #K\n",
    "    V1 = bempp.api.operators.boundary.laplace.single_layer(bempp_space, bempp_space, bempp_space, assembler=Assemble) #V \n",
    "else:\n",
    "    K1 = bempp.api.operators.boundary.modified_helmholtz.double_layer(trace_space, bempp_space, bempp_space, k, assembler=Assemble) #K\n",
    "    V1 = bempp.api.operators.boundary.modified_helmholtz.single_layer(bempp_space, bempp_space, bempp_space, k, assembler=Assemble) #V "
   ]
  },
  {
   "cell_type": "code",
   "execution_count": 7,
   "metadata": {},
   "outputs": [],
   "source": [
    "#Definir el espacio funcional de Dolfin\n",
    "u = dolfin.TrialFunction(fenics_space)\n",
    "v = dolfin.TestFunction(fenics_space)"
   ]
  },
  {
   "cell_type": "code",
   "execution_count": 8,
   "metadata": {},
   "outputs": [],
   "source": [
    "#Construccion del vector derecho\n",
    "# EL rhs en Ωm(FEM)\n",
    "rhs_f = dolfin.Constant(0.0)\n",
    "rhs_fem = dolfin.assemble(rhs_f*v*dolfin.dx)\n",
    "#Creacion de funcion del potencial de Coulomb   \n",
    "for i in range(len(PC)):\n",
    "    delta = dolfin.PointSource(fenics_space, dolfin.Point(PC[i]), Q[i]/em)\n",
    "    delta.apply(rhs_fem)\n",
    "# El rhs en Ωs(BEM)\n",
    "rhs_bem = np.zeros(bempp_space.global_dof_count)\n",
    "# La combinacion de rhs\n",
    "rhs = np.concatenate([rhs_fem, rhs_bem])"
   ]
  },
  {
   "cell_type": "code",
   "execution_count": 9,
   "metadata": {},
   "outputs": [],
   "source": [
    "#Construccion matriz izquierda 2x2\n",
    "from bempp.api.assembly.blocked_operator import BlockedDiscreteOperator\n",
    "from bempp.api.external.fenics import FenicsOperator\n",
    "from scipy.sparse.linalg.interface import LinearOperator\n",
    "blocks = [[None,None],[None,None]]\n",
    "\n",
    "trace_op = LinearOperator(trace_matrix.shape, lambda x:trace_matrix*x)\n",
    "A = FenicsOperator((dolfin.inner(dolfin.nabla_grad(u),\n",
    "                                 dolfin.nabla_grad(v)) ) * dolfin.dx)  \n",
    "#Posicion de la matriz 2x2#\n",
    "blocks[0][0] = A.weak_form()  #A\n",
    "blocks[0][1] = -trace_matrix.T * mass.weak_form().A  #-ML\n",
    "blocks[1][0] = (0.5 * I1 - K1).weak_form() * trace_op  #0.5-K\n",
    "blocks[1][1] = V1.weak_form()*(em/es)  #V\n",
    "\n",
    "blocked = BlockedDiscreteOperator(np.array(blocks))"
   ]
  },
  {
   "cell_type": "code",
   "execution_count": 10,
   "metadata": {},
   "outputs": [
    {
     "name": "stderr",
     "output_type": "stream",
     "text": [
      "/home/mauricioguerrero/Software/miniconda3/envs/bempp_prod/lib/python3.8/site-packages/scipy/sparse/linalg/dsolve/linsolve.py:318: SparseEfficiencyWarning: splu requires CSC matrix format\n",
      "  warn('splu requires CSC matrix format', SparseEfficiencyWarning)\n"
     ]
    },
    {
     "name": "stdout",
     "output_type": "stream",
     "text": [
      "Numero de iteraciones de GMRES: 240\n",
      "Tiempo total en GMRES:  0.21 [s]\n"
     ]
    }
   ],
   "source": [
    "#Creacion del precondicionador Block Diagonal para FEM/BEM\n",
    "from bempp.api.assembly.discrete_boundary_operator import InverseSparseDiscreteBoundaryOperator\n",
    "from scipy.sparse.linalg import LinearOperator\n",
    "from scipy.sparse import diags\n",
    "\n",
    "P1 = diags(1./blocked[0,0].A.diagonal())\n",
    "P2 = InverseSparseDiscreteBoundaryOperator(\n",
    "    bempp.api.operators.boundary.sparse.identity(\n",
    "        bempp_space, bempp_space, bempp_space).weak_form())\n",
    "\n",
    "def apply_prec(x):\n",
    "    \"\"\"Apply the block diagonal preconditioner\"\"\"\n",
    "    m1 = P1.shape[0]\n",
    "    m2 = P2.shape[0]\n",
    "    n1 = P1.shape[1]\n",
    "    n2 = P2.shape[1]\n",
    "    \n",
    "    res1 = P1.dot(x[:n1])\n",
    "    res2 = P2.dot(x[n1:])\n",
    "    return np.concatenate([res1, res2])\n",
    "\n",
    "p_shape = (P1.shape[0] + P2.shape[0], P1.shape[1] + P2.shape[1])\n",
    "P = LinearOperator(p_shape, apply_prec, dtype=np.dtype('complex128'))\n",
    "\n",
    "#Se resuelve la solucion de la Ecuacion matricial Ax=B\n",
    "#Contador de iteraciones\n",
    "it_count = 0\n",
    "def count_iterations(x):\n",
    "    global it_count\n",
    "    it_count += 1\n",
    "    if (it_count / 10000) == (it_count // 10000):\n",
    "        print(it_count,x)\n",
    "        \n",
    "# Solucion por GMRES\n",
    "from scipy.sparse.linalg import gmres\n",
    "start1 = time.time()\n",
    "soln, info = gmres(blocked, rhs, M=P, callback=count_iterations,tol=1e-6)  \n",
    "end1 = time.time() \n",
    "curr_time1 = (end1 - start1)\n",
    "  \n",
    "soln_fem = soln[:mesh.num_vertices()]\n",
    "soln_bem = soln[mesh.num_vertices():]\n",
    "\n",
    "print(\"Numero de iteraciones de GMRES: {0}\".format(it_count))\n",
    "print(\"Tiempo total en GMRES: {:5.2f} [s]\".format(curr_time1))"
   ]
  },
  {
   "cell_type": "code",
   "execution_count": 11,
   "metadata": {},
   "outputs": [],
   "source": [
    "#Calcula todo el dominio global del potencial en la interfaz a partir del potencial de FEM y la derivada de BEM calculado\n",
    "# Solucion para datos de Dirichlet \n",
    "dirichlet_data = trace_matrix * soln_fem\n",
    "dirichlet_fun = bempp.api.GridFunction(trace_space, coefficients=dirichlet_data)\n",
    "# Solucion para datos de Neumann \n",
    "neumann_fun = bempp.api.GridFunction(bempp_space, coefficients=soln_bem)"
   ]
  },
  {
   "cell_type": "code",
   "execution_count": 12,
   "metadata": {},
   "outputs": [
    {
     "name": "stdout",
     "output_type": "stream",
     "text": [
      "0 -24.298909893030633\n",
      "1 -24.307086241942283\n",
      "2 -24.306413031958584\n",
      "Energia de Solvatacion: -72.912409 [kCal/mol]\n",
      "Tiempo total: 21.63 [s]\n"
     ]
    }
   ],
   "source": [
    "#Calculo del potencial en la posicion de los atomos de la molecula\n",
    "slpF = bempp.api.operators.potential.laplace.single_layer(bempp_space, np.transpose(PC)) \n",
    "dlpF = bempp.api.operators.potential.laplace.double_layer(trace_space, np.transpose(PC))\n",
    "uF = slpF * neumann_fun - dlpF * dirichlet_fun \n",
    "\n",
    "#Resultado de la energia de solvatacion por atomo\n",
    "q_uF = 0\n",
    "for i in range(len(PC)):\n",
    "    Sum1 = (uF[0][i].real)*Q[i]\n",
    "    Ei = 0.5*4.*np.pi*332.064*(Sum1)\n",
    "    print(i,Ei)\n",
    "    q_uF = q_uF + Sum1\n",
    "\n",
    "#Resultado de la energia de solvatacion total\n",
    "E_Solv = 0.5*4.*np.pi*332.064*(q_uF)\n",
    "print('Energia de Solvatacion: {:7.6f} [kCal/mol]'.format(E_Solv) )\n",
    "\n",
    "end = time.time()\n",
    "curr_time = (end - start)   \n",
    "print(\"Tiempo total: {:5.2f} [s]\".format(curr_time))"
   ]
  },
  {
   "cell_type": "code",
   "execution_count": null,
   "metadata": {},
   "outputs": [],
   "source": []
  }
 ],
 "metadata": {
  "kernelspec": {
   "display_name": "Python 3",
   "language": "python",
   "name": "python3"
  },
  "language_info": {
   "codemirror_mode": {
    "name": "ipython",
    "version": 3
   },
   "file_extension": ".py",
   "mimetype": "text/x-python",
   "name": "python",
   "nbconvert_exporter": "python",
   "pygments_lexer": "ipython3",
   "version": "3.8.6"
  }
 },
 "nbformat": 4,
 "nbformat_minor": 4
}
