{
 "cells": [
  {
   "cell_type": "code",
   "execution_count": 1,
   "metadata": {},
   "outputs": [],
   "source": [
    "#Importacion de librerias\n",
    "import bempp.api\n",
    "import numpy as np \n",
    "import time\n",
    "from readoff import *\n",
    "from readpqr import *\n",
    "start = time.time()"
   ]
  },
  {
   "cell_type": "code",
   "execution_count": 2,
   "metadata": {},
   "outputs": [],
   "source": [
    "#Datos Principales. \n",
    "em = 4.     #[-] Permitividad electrica interior.\n",
    "es = 80.    #[-] Permitividad electrica exterior.\n",
    "k = 0.125   #[1/A] Inverso de la longitud de Debey-Huckel del fluido.\n",
    "\n",
    "#Eleccion de resolver la ecuacion matricial en BEM/BEM\n",
    "SF = True  #Strong form: True utiliza el precondicionador Mass Matrix. False no se utiliza ningun precondicionador.\n",
    "\n",
    "#Ensablaje de los operadores de frontera: #'fmm' para moleculas con un gran mayor numero de vertices.\n",
    "#'default_nonlocal' para moleculas con un pequeño numero de vertices.\n",
    "Assemble = 'default_nonlocal' "
   ]
  },
  {
   "cell_type": "code",
   "execution_count": 3,
   "metadata": {},
   "outputs": [],
   "source": [
    "#Datos de la posicion en el espacio, carga y radios de los atomos de la molecula.\n",
    "PC,Q,R = readpqr('PQR/Sphere5Q3.pqr')  #Eleccion del \"pqr\" de la molecula"
   ]
  },
  {
   "cell_type": "code",
   "execution_count": 4,
   "metadata": {},
   "outputs": [
    {
     "name": "stdout",
     "output_type": "stream",
     "text": [
      "Found 1 meshes\n"
     ]
    }
   ],
   "source": [
    "#Generar la malla superficial de la molecula\n",
    "#En caso que la malla tenga huecos pequeños, con trimesh se obtiene la informacion de la malla original sin los huecos.\n",
    "import trimesh\n",
    "V1,F1 = read_off('Mallas_S/Sphere5R0.off') #Eleccion del nombre de la malla en formato \"off\"\n",
    "meshSP = trimesh.Trimesh(vertices = V1, faces= F1) \n",
    "mesh_split = meshSP.split()\n",
    "print(\"Found %i meshes\"%len(mesh_split))\n",
    "\n",
    "vertices_split1 = mesh_split[0].vertices \n",
    "faces_split1 = mesh_split[0].faces   \n",
    "grid = bempp.api.grid.grid.Grid(vertices_split1.transpose(), faces_split1.transpose()) #Creacion de la malla superficial"
   ]
  },
  {
   "cell_type": "code",
   "execution_count": 5,
   "metadata": {},
   "outputs": [
    {
     "name": "stdout",
     "output_type": "stream",
     "text": [
      "DS dofs: 290\n",
      "NS dofs: 576\n"
     ]
    }
   ],
   "source": [
    "#Generar espacios de funcionales del potencial y su derivada\n",
    "dirichl_space = bempp.api.function_space(grid, \"P\", 1)   #Potencial electrostatico en la interfaz.\n",
    "neumann_space = bempp.api.function_space(grid, \"DP\", 0)  #Derivada del potencial electrostatico en la interfaz.\n",
    "\n",
    "print(\"DS dofs: {0}\".format(dirichl_space.global_dof_count))\n",
    "print(\"NS dofs: {0}\".format(neumann_space.global_dof_count))"
   ]
  },
  {
   "cell_type": "code",
   "execution_count": 6,
   "metadata": {},
   "outputs": [],
   "source": [
    "#Generar los operadores de frontera\n",
    "bempp.api.GLOBAL_PARAMETERS.fmm.expansion_order = 5\n",
    "#Dominio del soluto Ωm\n",
    "IL = bempp.api.operators.boundary.sparse.identity(dirichl_space, dirichl_space, dirichl_space) #1\n",
    "KL = bempp.api.operators.boundary.laplace.double_layer(dirichl_space, dirichl_space, dirichl_space, assembler=Assemble) #K\n",
    "VL = bempp.api.operators.boundary.laplace.single_layer(neumann_space, dirichl_space, dirichl_space, assembler=Assemble) #V\n",
    "#Dominio del solvente Ωs\n",
    "IH = bempp.api.operators.boundary.sparse.identity(dirichl_space, neumann_space, neumann_space) #1\n",
    "if k==0:\n",
    "    KH = bempp.api.operators.boundary.laplace.double_layer(dirichl_space, neumann_space, neumann_space, assembler=Assemble) #K\n",
    "    VH = bempp.api.operators.boundary.laplace.single_layer(neumann_space, neumann_space, neumann_space, assembler=Assemble) #V\n",
    "else:\n",
    "    KH = bempp.api.operators.boundary.modified_helmholtz.double_layer(dirichl_space, neumann_space, neumann_space, k, assembler=Assemble) #K\n",
    "    VH = bempp.api.operators.boundary.modified_helmholtz.single_layer(neumann_space, neumann_space, neumann_space, k, assembler=Assemble) #V"
   ]
  },
  {
   "cell_type": "code",
   "execution_count": 7,
   "metadata": {},
   "outputs": [
    {
     "name": "stderr",
     "output_type": "stream",
     "text": [
      "/home/mauricioguerrero/Software/miniconda3/envs/bempp_prod/lib/python3.8/site-packages/scipy/sparse/linalg/dsolve/linsolve.py:318: SparseEfficiencyWarning: splu requires CSC matrix format\n",
      "  warn('splu requires CSC matrix format', SparseEfficiencyWarning)\n"
     ]
    }
   ],
   "source": [
    "#Creacion de funcion del potencial de Coulomb    \n",
    "@bempp.api.complex_callable(jit=False)\n",
    "def U_c(x, n, domain_index, result):\n",
    "    global Q,PC,em\n",
    "    result[:] = (1 / (4.*np.pi*em))  * np.sum( Q / np.linalg.norm( x - PC, axis=1))\n",
    "U_c = bempp.api.GridFunction(dirichl_space, fun=U_c)\n",
    "\n",
    "#Construccion del vector derecho\n",
    "if SF==False:\n",
    "    # Rhs en Ωm\n",
    "    rhs_M = (U_c).projections(dirichl_space)\n",
    "    # Rhs en Ωs\n",
    "    rhs_S = np.zeros(neumann_space.global_dof_count)\n",
    "    # La conbinacion del rhs\n",
    "    rhs = np.concatenate([rhs_M, rhs_S])\n",
    "else:    \n",
    "    rhs = [IL*U_c, 0*IH*U_c]"
   ]
  },
  {
   "cell_type": "code",
   "execution_count": 8,
   "metadata": {},
   "outputs": [],
   "source": [
    "#Construccion matriz izquierda 2x2\n",
    "if SF==False:\n",
    "    #Posicion de la matriz 2x2\n",
    "    blocks = [[None,None],[None,None]] \n",
    "    blocks[0][0] = (0.5*IL + KL).weak_form()  #0.5+K\n",
    "    blocks[0][1] = -VL.weak_form()            #-V\n",
    "    blocks[1][0] = (0.5*IH - KH).weak_form()  #0.5-K\n",
    "    blocks[1][1] = (em/es)*VH.weak_form()     #V(em/es)    \n",
    "    blocked = bempp.api.assembly.blocked_operator.BlockedDiscreteOperator(np.array(blocks))\n",
    "    \n",
    "    #Precondicionador block diagonal opcional para BEM.\n",
    "    from preconditioners import *\n",
    "    #P = BlockDiagonal0(dirichl_space, neumann_space, blocks, es, em, k) \n",
    "else:   \n",
    "    #Posicion de la matriz 2x2\n",
    "    blocks = bempp.api.BlockedOperator(2,2)    \n",
    "    blocks[0,0] = (0.5*IL + KL)  #0.5+K\n",
    "    blocks[0,1] = -VL            #-V\n",
    "    blocks[1,0] = (0.5*IH - KH)  #0.5-K\n",
    "    blocks[1,1] = VH*(em/es)     #V(em/es)"
   ]
  },
  {
   "cell_type": "code",
   "execution_count": 9,
   "metadata": {
    "scrolled": true
   },
   "outputs": [
    {
     "name": "stderr",
     "output_type": "stream",
     "text": [
      "/home/mauricioguerrero/Software/miniconda3/envs/bempp_prod/lib/python3.8/site-packages/scipy/sparse/linalg/dsolve/linsolve.py:318: SparseEfficiencyWarning: splu requires CSC matrix format\n",
      "  warn('splu requires CSC matrix format', SparseEfficiencyWarning)\n"
     ]
    },
    {
     "name": "stdout",
     "output_type": "stream",
     "text": [
      "Numero de iteraciones de GMRES: 136\n",
      "Tiempo total en GMRES:  2.30 [s]\n"
     ]
    }
   ],
   "source": [
    "#Se resuelve la solucion de la Ecuacion matricial Ax=B\n",
    "#Contador de iteraciones\n",
    "it_count = 0\n",
    "def count_iterations(x):\n",
    "    global it_count\n",
    "    it_count += 1\n",
    "    if (it_count / 1000) == (it_count // 1000):\n",
    "        print(it_count,x)\n",
    "\n",
    "# Solucion por GMRES\n",
    "from scipy.sparse.linalg import gmres\n",
    "if SF==False:\n",
    "    start1 = time.time()\n",
    "    soln, info = gmres(blocked, rhs, M=None, callback=count_iterations,tol=1e-6)  #Sin Precondicionador#\n",
    "    end1 = time.time() \n",
    "else:\n",
    "    #bempp.api.enable_console_logging('info')\n",
    "    start1 = time.time()\n",
    "    soln, info, res, it_count = bempp.api.linalg.gmres(blocks, rhs, return_residuals=True, return_iteration_count=True, use_strong_form=True, tol=1e-6)\n",
    "    end1 = time.time()\n",
    "\n",
    "# Tiempo de resolver la ecuacion\n",
    "curr_time1 = (end1 - start1) \n",
    "print(\"Numero de iteraciones de GMRES: {0}\".format(it_count))\n",
    "print(\"Tiempo total en GMRES: {:5.2f} [s]\".format(curr_time1))"
   ]
  },
  {
   "cell_type": "code",
   "execution_count": 10,
   "metadata": {},
   "outputs": [],
   "source": [
    "#Calcula todo el dominio global del potencial a partir de la solucion del borde calculado\n",
    "if SF==False:\n",
    "    # Solucion para datos de Dirichlet \n",
    "    soln_u = soln[:dirichl_space.global_dof_count]\n",
    "    dirichlet_fun = bempp.api.GridFunction(dirichl_space, coefficients=soln_u)\n",
    "    # Solucion para datos de Neumann \n",
    "    soln_du = soln[dirichl_space.global_dof_count:] \n",
    "    neumann_fun = bempp.api.GridFunction(neumann_space, coefficients=soln_du)\n",
    "else:\n",
    "    dirichlet_fun = soln[0]\n",
    "    neumann_fun = soln[1]"
   ]
  },
  {
   "cell_type": "code",
   "execution_count": 11,
   "metadata": {
    "scrolled": true
   },
   "outputs": [
    {
     "name": "stdout",
     "output_type": "stream",
     "text": [
      "0 -24.300606862083175\n",
      "1 -24.30250296328726\n",
      "2 -24.301953286568892\n",
      "Energia de Solvatacion: -72.905063 [kCal/mol]\n",
      "Tiempo total: 23.52 [s]\n"
     ]
    }
   ],
   "source": [
    "#Calculo del potencial en la posicion de los atomos de la molecula\n",
    "VF = bempp.api.operators.potential.laplace.single_layer(neumann_space, np.transpose(PC)) \n",
    "KF = bempp.api.operators.potential.laplace.double_layer(dirichl_space, np.transpose(PC))\n",
    "uF = VF*neumann_fun - KF*dirichlet_fun\n",
    "\n",
    "#Resultado de la energia de solvatacion por atomo\n",
    "for i in range(len(PC)):\n",
    "    Sum1 = (uF[0][i]).real*Q[i]\n",
    "    Ei = 0.5*4.*np.pi*332.064*(Sum1)\n",
    "    print(i,Ei)\n",
    "\n",
    "#Resultado de la energia de solvatacion total\n",
    "E_Solv = 0.5*4.*np.pi*332.064*np.sum(Q*uF).real \n",
    "print('Energia de Solvatacion: {:7.6f} [kCal/mol]'.format(E_Solv) )\n",
    "\n",
    "end = time.time()\n",
    "curr_time = (end - start)   \n",
    "print(\"Tiempo total: {:5.2f} [s]\".format(curr_time))"
   ]
  },
  {
   "cell_type": "code",
   "execution_count": null,
   "metadata": {},
   "outputs": [],
   "source": []
  }
 ],
 "metadata": {
  "kernelspec": {
   "display_name": "Python 3",
   "language": "python",
   "name": "python3"
  },
  "language_info": {
   "codemirror_mode": {
    "name": "ipython",
    "version": 3
   },
   "file_extension": ".py",
   "mimetype": "text/x-python",
   "name": "python",
   "nbconvert_exporter": "python",
   "pygments_lexer": "ipython3",
   "version": "3.8.6"
  }
 },
 "nbformat": 4,
 "nbformat_minor": 2
}
