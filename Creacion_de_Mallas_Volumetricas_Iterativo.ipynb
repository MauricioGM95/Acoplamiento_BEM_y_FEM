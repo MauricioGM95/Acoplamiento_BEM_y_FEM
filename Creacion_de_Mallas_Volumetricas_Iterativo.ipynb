{
 "cells": [
  {
   "cell_type": "code",
   "execution_count": null,
   "metadata": {},
   "outputs": [],
   "source": [
    "# Importacion de librerias\n",
    "import pygamer\n",
    "print(\"PyGAMer version:\", pygamer.__version__())\n",
    "import numpy as np\n",
    "import threevis\n",
    "import trimesh\n",
    "import time"
   ]
  },
  {
   "cell_type": "code",
   "execution_count": null,
   "metadata": {},
   "outputs": [],
   "source": [
    "#Lectura del archivo de texto\n",
    "with open(\"Lista_Moleculas_Pequeñas.txt\",\"r\") as f:\n",
    "    lines = f.readlines()\n",
    "for line in lines:\n",
    "    line = line.split()\n",
    "    LG.append(line[0])\n",
    "print(LG)"
   ]
  },
  {
   "cell_type": "code",
   "execution_count": null,
   "metadata": {
    "scrolled": true
   },
   "outputs": [],
   "source": [
    "start = time.time()\n",
    "f1=open(\"EsferaVerticesElementos.txt\",\"w\")\n",
    "for i in range(len(LG)):\n",
    "    file =LG[i]\n",
    "    print(i,file)\n",
    "    # Llama a las mallas de archivos off para generar el cascaron\n",
    "    mesh01 = pygamer.readOFF(file+\".off\") #Malla interior\n",
    "    mesh02 = pygamer.readOFF(file+\".off\") #Malla exterior\n",
    "    \n",
    "    #Caso especifico de mas de una malla\n",
    "    mesh_split1 = mesh01.splitSurfaces()\n",
    "    mesh_split2 = mesh02.splitSurfaces()\n",
    "    print(\"Found %i meshes\"%len(mesh_split1))\n",
    "    print(\"Found %i meshes\"%len(mesh_split2))\n",
    "    mesh1 = mesh_split1[0] #Malla interior\n",
    "    mesh2 = mesh_split2[0] #Malla interior\n",
    "    \n",
    "    # Corrige el vector normal de las mallas\n",
    "    mesh1.correctNormals()\n",
    "    mesh2.correctNormals()\n",
    "    \n",
    "    gInfo = mesh1.getRoot()\n",
    "    gInfo.ishole = True\n",
    "    # Informacion de la malla 2\n",
    "    gInfo = mesh2.getRoot()\n",
    "    gInfo.ishole = False\n",
    "    \n",
    "    # Construye una lista de mallas para la funcion TetGen\n",
    "    meshes = [mesh1,mesh2]\n",
    "    #Tetrahedriza la lista de mallas para generar el casacaron con TetGen.\n",
    "    tetmesh = pygamer.makeTetMesh(meshes, \"-pq1.1aYAO2/3\")\n",
    "    pygamer.writeDolfin('outputTetMesh'+file+'.xml', tetmesh)\n",
    "\n",
    "    V1 = mesh1.nVertices\n",
    "    E1 = mesh1.nFaces\n",
    "    V2 = mesh2.nVertices\n",
    "    E2 = mesh2.nFaces\n",
    "    VC = tetmesh.nVertices\n",
    "    \n",
    "    f1.write(file+\" \"+str(V1)+\" \"+str(E1)+\" \"+str(V2)+\" \"+str(E2)+\" \"+str(VC)+\"\\n\")  #Nombre VerticeR0 ElementosR0 VerticesR2 ElementosR2 #Vertices Cascaron \n",
    "f1.close()\n",
    "end = time.time()\n",
    "print(end - start)"
   ]
  },
  {
   "cell_type": "code",
   "execution_count": null,
   "metadata": {
    "scrolled": true
   },
   "outputs": [],
   "source": [
    "#Correccion de agujeros en la malla superficial\n",
    "mesh3 = pygamer.readOFF(file+\".off\") #Malla con agujeros\n",
    "mesh3.fillHoles()\n",
    "mesh_split3 = mesh3.splitSurfaces()\n",
    "print(\"Found %i meshes\"%len(mesh_split3))\n",
    "pygamer.writeOFF(file+\".off\", mesh3) #Malla sin agujeros"
   ]
  },
  {
   "cell_type": "code",
   "execution_count": null,
   "metadata": {},
   "outputs": [],
   "source": []
  }
 ],
 "metadata": {
  "kernelspec": {
   "display_name": "Python 3",
   "language": "python",
   "name": "python3"
  },
  "language_info": {
   "codemirror_mode": {
    "name": "ipython",
    "version": 3
   },
   "file_extension": ".py",
   "mimetype": "text/x-python",
   "name": "python",
   "nbconvert_exporter": "python",
   "pygments_lexer": "ipython3",
   "version": "3.8.6"
  }
 },
 "nbformat": 4,
 "nbformat_minor": 4
}
