{
 "cells": [
  {
   "cell_type": "code",
   "execution_count": null,
   "metadata": {},
   "outputs": [],
   "source": [
    "import numpy as np \n",
    "from Codigos_Adicionales import *\n",
    "from Codigos_BEM_y_FEM_Generalizadas import *"
   ]
  },
  {
   "cell_type": "code",
   "execution_count": null,
   "metadata": {},
   "outputs": [],
   "source": [
    "#Creacion de pqr de la moleculas de Mobley\n",
    "#Lectura del archivo de texto\n",
    "LG =[]\n",
    "with open(\"Lista_Moleculas_Pequeñas.txt\",\"r\") as f:\n",
    "    lines = f.readlines()\n",
    "for line in lines:\n",
    "    line = line.split()\n",
    "    LG.append(line[0])\n",
    "\n",
    "for i in range(len(LG)):\n",
    "    file = LG[i]   # file: nombre del archivo en formato de texto\n",
    "    FP = 'Moleculas_Pequeñas/prmcrd/'           #direccion donde se encuentra la carpeta prmcrd. \n",
    "    FC = 'Moleculas_Pequeñas/charged_mol2files/'#direccion donde se encuentra la carpeta charged_mol2files. \n",
    "    FS = 'Moleculas_Pequeñas/PQR/'              #direccion donde se guardara el pqr. \n",
    "    d = 0 #distacia adicional para el radio para crear la malla con capa de exclusion\n",
    "    _ = PQR_Moleculas_Pequeñas(file,d,FP,FC,FS)"
   ]
  },
  {
   "cell_type": "code",
   "execution_count": null,
   "metadata": {},
   "outputs": [],
   "source": [
    "#Modificacion del pqr de la moleculas del 1LYZ y del 1BPI que viene de PDB2PQR     \n",
    "file = '1bpi' #nombre del archivo en formato de texto\n",
    "FE ='Moleculas_Grandes/PQR/'      #direccion donde se encuentra el pqr. \n",
    "FS ='Moleculas_Grandes/Mallas_S/' #direccion donde se guarda el pqr modificado.    \n",
    "d = 0  #distacia adicional para el radio para crear la malla con capa de exclusion  \n",
    "_ = NuevoPQR(file,d,FE,FS) "
   ]
  },
  {
   "cell_type": "code",
   "execution_count": null,
   "metadata": {},
   "outputs": [],
   "source": [
    "#Creacion del archivo prmtop del 1BBZ, L1BBZ, 1SE0 y L1SE0\n",
    "import parmed.amber\n",
    "from pathlib import Path\n",
    "top = parmed.load_file(\"Moleculas_de_Union/top/L1BBZ.top\")\n",
    "top.save('Moleculas_de_Union/top/L1BBZ.prmtop', format='amber')"
   ]
  },
  {
   "cell_type": "code",
   "execution_count": null,
   "metadata": {},
   "outputs": [],
   "source": [
    "# Caso para las moleculas de grandes como el 1SE0 y 1BBZ (ligando, proteina y conjunto)\n",
    "file = '1BBZ-L' #nombre del archivo en formato de texto\n",
    "FE = 'Moleculas_de_Union/top/' #direccion donde se encuentra el archivo prmtop y el pdb. \n",
    "FS = 'Moleculas_de_Union/PQR/' #direccion donde se guarda el pqr modificado.   \n",
    "d = 0  #distacia adicional para el radio para crear la malla con capa de exclusion  \n",
    "_ = PQR_Moleculas_de_Union(file,d,FP,FE,FS)"
   ]
  },
  {
   "cell_type": "code",
   "execution_count": null,
   "metadata": {},
   "outputs": [],
   "source": []
  }
 ],
 "metadata": {
  "kernelspec": {
   "display_name": "Python 3",
   "language": "python",
   "name": "python3"
  },
  "language_info": {
   "codemirror_mode": {
    "name": "ipython",
    "version": 3
   },
   "file_extension": ".py",
   "mimetype": "text/x-python",
   "name": "python",
   "nbconvert_exporter": "python",
   "pygments_lexer": "ipython3",
   "version": "3.8.6"
  }
 },
 "nbformat": 4,
 "nbformat_minor": 4
}
